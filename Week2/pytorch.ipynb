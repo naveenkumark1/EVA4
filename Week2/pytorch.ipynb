{
  "nbformat": 4,
  "nbformat_minor": 0,
  "metadata": {
    "colab": {
      "name": "Untitled4.ipynb",
      "provenance": [],
      "collapsed_sections": [],
      "authorship_tag": "ABX9TyNv8GPntN/e9rZbb/erkdQB",
      "include_colab_link": true
    },
    "kernelspec": {
      "name": "python3",
      "display_name": "Python 3"
    },
    "accelerator": "GPU"
  },
  "cells": [
    {
      "cell_type": "markdown",
      "metadata": {
        "id": "view-in-github",
        "colab_type": "text"
      },
      "source": [
        "<a href=\"https://colab.research.google.com/github/naveenkumark1/Extensive_Vision_and_AI_V.4/blob/master/Week2/pytorch.ipynb\" target=\"_parent\"><img src=\"https://colab.research.google.com/assets/colab-badge.svg\" alt=\"Open In Colab\"/></a>"
      ]
    },
    {
      "cell_type": "code",
      "metadata": {
        "id": "D43-YbzCBbWl",
        "colab_type": "code",
        "colab": {}
      },
      "source": [
        "from __future__ import print_function # Directive to the compiler to use \"print\" statement as per one of the future versions of python untill it becomes a standard\n",
        "import torch                          # Importing the pytorch library module\n",
        "import torch.nn as nn                 # Importing the torch.nn module to use its functions to build a neural network - Mostly object oriented \n",
        "import torch.nn.functional as F       # Importing the \"functional\" function from the torch.nn module  - Mostly functional consists of functions ( to just run a specific function )\n",
        "import torch.optim as optim           # Importing the torch.optim module to use its functions to optimise our neural network\n",
        "from torchvision import datasets, transforms  # Importing the data sets and the transforms module from the torchvision library\n",
        "\n",
        "# datasets : contatins the image data sets ex. MNIST\n",
        "# transforms : contains the image tranforming functions ex. PIL to other forms, Croping, Padding, Resizing etc"
      ],
      "execution_count": 0,
      "outputs": []
    },
    {
      "cell_type": "code",
      "metadata": {
        "id": "obmWRS-wBdMb",
        "colab_type": "code",
        "colab": {}
      },
      "source": [
        "class Net(nn.Module):                               ## Creating a class for the Neural Network\n",
        "    def __init__(self):                             ## Initialising a Self module \n",
        "        super(Net, self).__init__()                 ## Initialisation to inherit the methods and (attributes?) from the parent class  -- Explore OOP  -- Super init error\n",
        "\n",
        "        ## Defining the Convolution Neural Network using Conv2d form the nn module \n",
        "        ## nn.Conv2d(in_channels, out_channels, kernel_size, stride=1, padding=0, dilation=1, groups=1, bias=True, padding_mode='zeros')\n",
        "        ## Mentioned only local receptive for each kernel - 3X3\n",
        "\n",
        "        self.conv1 = nn.Conv2d(1, 32, 3, padding=1)  #1 Layer (in- 1 channel-Image)(out-32 feature channels result of convolution)(equal kernal-3X3)(padding-1pixel around the image)\n",
        "        # Layer 1 - RF - Local - 3X3 & Global - 3X3\n",
        "\n",
        "        self.conv2 = nn.Conv2d(32, 64, 3, padding=1) #2 Layer (in-32 channel features)(out-64 feature channels result of convolution)(equal kernal-3X3)(padding-1pixel around the image)\n",
        "        # Layer 2 - RF - Local - 3X3 & Global - 5X5\n",
        "\n",
        "        ## Defining a max pooling layer using MaxPool2d form the nn module \n",
        "        ## nn.MaxPool2d(kernel_size, stride=None, padding=0, dilation=1, return_indices=False, ceil_mode=False)\n",
        "        self.pool1 = nn.MaxPool2d(2, 2)              #3 layer (equal max pooling layer 2X2)(stride-2)\n",
        "        # Layer Pool 1 - Doubles the Global receptive field to 10X10\n",
        "\n",
        "        self.conv3 = nn.Conv2d(64, 128, 3, padding=1)#4 Layer (in-64 channel features)(out-128 feature channels result of convolution)(equal kernal-3X3)(padding-1pixel around the image)\n",
        "        # Layer 3 - RF - Local - 3X3 & Global - 10X10\n",
        "\n",
        "        self.conv4 = nn.Conv2d(128, 256, 3, padding=1)#5 Layer (in-128 channel features)(out-256 feature channels result of convolution)(equal kernal-3X3)(padding-1pixel around the image)\n",
        "        # Layer 4 - RF - Local - 3X3 & Global - 12X12\n",
        "        \n",
        "        self.pool2 = nn.MaxPool2d(2, 2)              #6 layer (equal pooling layer 2X2)(stride-2)\n",
        "        # Layer Pool 2 - Doubles the Global receptive field to 24X24\n",
        "\n",
        "        self.conv5 = nn.Conv2d(256, 512, 3)          #7 Layer (in-256 channel features)(out-512 feature channels result of convolution)(equal kernal-3X3)(padding-1pixel around the image)\n",
        "        # Layer 5 - RF - Local - 3X3 & Global - 24X24\n",
        "\n",
        "        self.conv6 = nn.Conv2d(512, 1024, 3)         #8 Layer (in-512 channel features)(out-1024 feature channels result of convolution)(equal kernal-3X3)(padding-1pixel around the image)\n",
        "        # Layer 6 - RF - Local - 3X3 & Global - 26X26\n",
        "\n",
        "        ## In the last layer we convolve all the feature layers in to the 10 output classes of MNIST ( 0 to 9)\n",
        "\n",
        "        self.conv7 = nn.Conv2d(1024, 10, 3)          #9 Layer (in-1024 channel features)(out-10 Classes of output)(equal kernal-3X3)(padding-1pixel around the image)  \n",
        "        # Layer 7 - RF - Local - 3X3 & Global - 28X28\n",
        "\n",
        "# Above we defined a network structure, Now we will defing the route for the informaiton to travel through the network in a single direction ( forward direction )\n",
        "\n",
        "    def forward(self, x):  ## Define a forward path for 'self' with input 'x'\n",
        "        x = self.pool1(F.relu(self.conv2(F.relu(self.conv1(x)))))   # input x to \"conv1\" layer -> send through \"relu\" activation -> convolve with \"conv2\" -> send through \"relu\" activation -> max pool at \"pool1\" layer\n",
        "        x = self.pool2(F.relu(self.conv4(F.relu(self.conv3(x)))))   # input the output of pool1 to \"conv3\" layer -> send through \"relu\" activation -> convolve with \"conv4\" -> send through \"relu\" activation -> max pool at \"pool2\" layer\n",
        "        x = F.relu(self.conv6(F.relu(self.conv5(x))))               # input the output of pool2 to \"conv5\" layer -> send through \"relu\" activaiton -> convolve with \"conv6\" -> send through \"relu\" activation\n",
        "        x = F.relu(self.conv7(x))                                   # input the output of \"relu\" activated \"conv6\" -> to \"conv7\" -> send through \"relu\" activation -> fires one of the 10 classes of output of MNIST\n",
        "        x = x.view(-1, 10)                                          # View one of the 10 classes that is fired in the above layer\n",
        "        return F.log_softmax(x)                                     # To get the probability of the output we use softmax"
      ],
      "execution_count": 0,
      "outputs": []
    },
    {
      "cell_type": "markdown",
      "metadata": {
        "id": "XJZwsyCUVSAl",
        "colab_type": "text"
      },
      "source": [
        "#Global Receptive Field Summary \n",
        "\n",
        "###Layer 1 : 3X3 \n",
        "###Layer 2 : 5X5\n",
        "###Layer 3 : MAX POOL - RFX2 - 10X10\n",
        "###Layer 4 : 10X10\n",
        "###Layer 5 : 12X12\n",
        "###Layer 6 : MAX POOL - RFX2 - 24X24\n",
        "###Layer 7 : 24X24\n",
        "###Layer 8 : 26X26\n",
        "###Layer 9 : 28X28 - Size of the Image\n",
        "\n"
      ]
    },
    {
      "cell_type": "code",
      "metadata": {
        "id": "PduNOcvMBiaZ",
        "colab_type": "code",
        "outputId": "cd0ffcbc-70fb-444f-f2a5-3d030b8aaa5e",
        "colab": {
          "base_uri": "https://localhost:8080/",
          "height": 442
        }
      },
      "source": [
        "## This block prints the summary of the above Neural network\n",
        "\n",
        "#!pip install torchsummary\n",
        "from torchsummary import summary\n",
        "use_cuda = torch.cuda.is_available()                   # Selecting between a GPU and CPU based on Availability\n",
        "device = torch.device(\"cuda\" if use_cuda else \"cpu\")   # Selecting between a GPU and CPU based on Availability\n",
        "model = Net().to(device)                               # Selecting between a GPU and CPU based on Availability\n",
        "summary(model, input_size=(1, 28, 28))                 # Show the summary fo the \"model\"(Net) where input dimension is (1X28X28)"
      ],
      "execution_count": 3,
      "outputs": [
        {
          "output_type": "stream",
          "text": [
            "----------------------------------------------------------------\n",
            "        Layer (type)               Output Shape         Param #\n",
            "================================================================\n",
            "            Conv2d-1           [-1, 32, 28, 28]             320\n",
            "            Conv2d-2           [-1, 64, 28, 28]          18,496\n",
            "         MaxPool2d-3           [-1, 64, 14, 14]               0\n",
            "            Conv2d-4          [-1, 128, 14, 14]          73,856\n",
            "            Conv2d-5          [-1, 256, 14, 14]         295,168\n",
            "         MaxPool2d-6            [-1, 256, 7, 7]               0\n",
            "            Conv2d-7            [-1, 512, 5, 5]       1,180,160\n",
            "            Conv2d-8           [-1, 1024, 3, 3]       4,719,616\n",
            "            Conv2d-9             [-1, 10, 1, 1]          92,170\n",
            "================================================================\n",
            "Total params: 6,379,786\n",
            "Trainable params: 6,379,786\n",
            "Non-trainable params: 0\n",
            "----------------------------------------------------------------\n",
            "Input size (MB): 0.00\n",
            "Forward/backward pass size (MB): 1.51\n",
            "Params size (MB): 24.34\n",
            "Estimated Total Size (MB): 25.85\n",
            "----------------------------------------------------------------\n"
          ],
          "name": "stdout"
        },
        {
          "output_type": "stream",
          "text": [
            "/usr/local/lib/python3.6/dist-packages/ipykernel_launcher.py:48: UserWarning: Implicit dimension choice for log_softmax has been deprecated. Change the call to include dim=X as an argument.\n"
          ],
          "name": "stderr"
        }
      ]
    },
    {
      "cell_type": "code",
      "metadata": {
        "id": "jKCY3YaZBlDq",
        "colab_type": "code",
        "outputId": "c944f3fd-fd29-4224-8f22-3b9ecb51e950",
        "colab": {
          "base_uri": "https://localhost:8080/",
          "height": 263
        }
      },
      "source": [
        "torch.manual_seed(1)                                                       # Set the seed to enure the repeatability of the data \n",
        "batch_size = 128                                                           # Number of items to be passed in the network in one iteration\n",
        "\n",
        "kwargs = {'num_workers': 1, 'pin_memory': True} if use_cuda else {}        #\n",
        "train_loader = torch.utils.data.DataLoader(                                # Use the torch.util.DataLoder module to load the MNIST data from internet in to the train_loader variable \n",
        "    datasets.MNIST('../data', train=True, download=True,                   # Data goes in to the training data set and the data will be downloaded in to the machine\n",
        "                    transform=transforms.Compose([                         # Use the transforms.compose module to transform the input images\n",
        "                        transforms.ToTensor(),                             # The input data is converted in to tensors compatible with pytorch\n",
        "                        transforms.Normalize((0.1307,), (0.3081,))         # normalise the data using the mean and the standard deviation of the MNIST data\n",
        "                    ])),\n",
        "    batch_size=batch_size, shuffle=True, **kwargs)                         # Setting batch size to 128 & selecting random data by shuffling\n",
        "\n",
        "test_loader = torch.utils.data.DataLoader(                                 # SIMILAR PROCESS FOR THE TEST DATA ALSO\n",
        "    datasets.MNIST('../data', train=False, transform=transforms.Compose([\n",
        "                        transforms.ToTensor(),\n",
        "                        transforms.Normalize((0.1307,), (0.3081,))\n",
        "                    ])),\n",
        "    batch_size=batch_size, shuffle=True, **kwargs)\n",
        "\n",
        "# Explore - Mean, Stdev, Kwargs"
      ],
      "execution_count": 4,
      "outputs": [
        {
          "output_type": "stream",
          "text": [
            "  0%|          | 0/9912422 [00:00<?, ?it/s]"
          ],
          "name": "stderr"
        },
        {
          "output_type": "stream",
          "text": [
            "Downloading http://yann.lecun.com/exdb/mnist/train-images-idx3-ubyte.gz to ../data/MNIST/raw/train-images-idx3-ubyte.gz\n"
          ],
          "name": "stdout"
        },
        {
          "output_type": "stream",
          "text": [
            "9920512it [00:00, 26535509.91it/s]                            \n"
          ],
          "name": "stderr"
        },
        {
          "output_type": "stream",
          "text": [
            "Extracting ../data/MNIST/raw/train-images-idx3-ubyte.gz to ../data/MNIST/raw\n"
          ],
          "name": "stdout"
        },
        {
          "output_type": "stream",
          "text": [
            "32768it [00:00, 283147.51it/s]                           \n",
            "0it [00:00, ?it/s]"
          ],
          "name": "stderr"
        },
        {
          "output_type": "stream",
          "text": [
            "Downloading http://yann.lecun.com/exdb/mnist/train-labels-idx1-ubyte.gz to ../data/MNIST/raw/train-labels-idx1-ubyte.gz\n",
            "Extracting ../data/MNIST/raw/train-labels-idx1-ubyte.gz to ../data/MNIST/raw\n",
            "Downloading http://yann.lecun.com/exdb/mnist/t10k-images-idx3-ubyte.gz to ../data/MNIST/raw/t10k-images-idx3-ubyte.gz\n"
          ],
          "name": "stdout"
        },
        {
          "output_type": "stream",
          "text": [
            "1654784it [00:00, 7533877.10it/s]                            \n",
            "8192it [00:00, 177155.89it/s]"
          ],
          "name": "stderr"
        },
        {
          "output_type": "stream",
          "text": [
            "Extracting ../data/MNIST/raw/t10k-images-idx3-ubyte.gz to ../data/MNIST/raw\n",
            "Downloading http://yann.lecun.com/exdb/mnist/t10k-labels-idx1-ubyte.gz to ../data/MNIST/raw/t10k-labels-idx1-ubyte.gz\n",
            "Extracting ../data/MNIST/raw/t10k-labels-idx1-ubyte.gz to ../data/MNIST/raw\n",
            "Processing...\n",
            "Done!\n"
          ],
          "name": "stdout"
        },
        {
          "output_type": "stream",
          "text": [
            "\n"
          ],
          "name": "stderr"
        }
      ]
    },
    {
      "cell_type": "code",
      "metadata": {
        "id": "G-Y4GY9MBo1Z",
        "colab_type": "code",
        "colab": {}
      },
      "source": [
        "from tqdm import tqdm                                           # Including the taquadam library for the progress bar and has good support for nested loops\n",
        "def train(model, device, train_loader, optimizer, epoch):       # Define a function \"train\" with (model, device, train_loader, optimizer, epoch) arguments\n",
        "    model.train()                                               # Creating a funciton called model.train()\n",
        "    pbar = tqdm(train_loader)                                   # creating a progress bar using train_loader\n",
        "    for batch_idx, (data, target) in enumerate(pbar):           # Initialising a loop for the network taining\n",
        "        data, target = data.to(device), target.to(device)       # Initialising the images and their corresponding labels to variables\n",
        "        optimizer.zero_grad()                                   # Resetting the values of the optimizer to zero before starting \n",
        "        output = model(data)                                    # \"output\" is the output of the \"model\" form \"data\" - Training in this case\n",
        "        loss = F.nll_loss(output, target)                       # Comparing the output of the NN and the actual to find the loss\n",
        "        loss.backward()                                         # Backward propogation of the loss\n",
        "        optimizer.step()                                        # Using the optimizer to update the weights as per the leanring rate\n",
        "        pbar.set_description(desc= f'loss={loss.item()} batch_id={batch_idx}') # Displaying the loss or a corresponding batch along with the descreption bar\n",
        "\n",
        "\n",
        "def test(model, device, test_loader):                           # Create a function test with (model, device, test_loader) as arguments\n",
        "    model.eval()                                                # Creating a funciton called model.eval()\n",
        "    test_loss = 0                                               # Initialising the test loss to Zero\n",
        "    correct = 0                                                 # Initialising the correct to Zero\n",
        "    with torch.no_grad():                                       # Set all grad flags to Zero\n",
        "        for data, target in test_loader:                        # Start the loop for data and target in the test_loader\n",
        "            data, target = data.to(device), target.to(device)   # Initialising the images and their corresponding labels to variables\n",
        "            output = model(data)                                # \"output\" is the output of the \"model\" form \"data\" - Testing in this case\n",
        "            test_loss += F.nll_loss(output, target, reduction='sum').item()  # sum up batch loss  - Loss of the complete batch\n",
        "            pred = output.argmax(dim=1, keepdim=True)           # get the index of the max log-probability - ??\n",
        "            correct += pred.eq(target.view_as(pred)).sum().item()# Counting the correct results given by the model\n",
        "\n",
        "    test_loss /= len(test_loader.dataset)                       # Finding the percent of test loss\n",
        "\n",
        "    print('\\nTest set: Average loss: {:.4f}, Accuracy: {}/{} ({:.0f}%)\\n'.format(\n",
        "        test_loss, correct, len(test_loader.dataset),           # Printing the Testloss, Correct values & the percentage of the loss\n",
        "        100. * correct / len(test_loader.dataset)))"
      ],
      "execution_count": 0,
      "outputs": []
    },
    {
      "cell_type": "code",
      "metadata": {
        "id": "_B_hDMl1BrXf",
        "colab_type": "code",
        "outputId": "3a7acf1a-e77f-4a5d-ef61-7e8021463508",
        "colab": {
          "base_uri": "https://localhost:8080/",
          "height": 125
        }
      },
      "source": [
        "\n",
        "model = Net().to(device)                                         # Initialising the \"model\" with the \"Net\" neural network   \n",
        "optimizer = optim.SGD(model.parameters(), lr=0.01, momentum=0.9) # Using the stochastic gradient descent with leanring rate 0.01 & momentum ??\n",
        "\n",
        "for epoch in range(1, 2):                                        # Starting the loop with epochs\n",
        "    train(model, device, train_loader, optimizer, epoch)         # running the train module defined above\n",
        "    test(model, device, test_loader)                             # running the test module defined above"
      ],
      "execution_count": 6,
      "outputs": [
        {
          "output_type": "stream",
          "text": [
            "  0%|          | 0/469 [00:00<?, ?it/s]/usr/local/lib/python3.6/dist-packages/ipykernel_launcher.py:48: UserWarning: Implicit dimension choice for log_softmax has been deprecated. Change the call to include dim=X as an argument.\n",
            "loss=1.7953499555587769 batch_id=468: 100%|██████████| 469/469 [00:17<00:00, 26.36it/s]\n"
          ],
          "name": "stderr"
        },
        {
          "output_type": "stream",
          "text": [
            "\n",
            "Test set: Average loss: 1.7226, Accuracy: 3784/10000 (38%)\n",
            "\n"
          ],
          "name": "stdout"
        }
      ]
    }
  ]
}