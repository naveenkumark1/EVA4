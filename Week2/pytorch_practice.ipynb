{
  "nbformat": 4,
  "nbformat_minor": 0,
  "metadata": {
    "colab": {
      "name": "Untitled5.ipynb",
      "provenance": [],
      "authorship_tag": "ABX9TyPGO/JYfWONcCYBUeMwniRf",
      "include_colab_link": true
    },
    "kernelspec": {
      "name": "python3",
      "display_name": "Python 3"
    }
  },
  "cells": [
    {
      "cell_type": "markdown",
      "metadata": {
        "id": "view-in-github",
        "colab_type": "text"
      },
      "source": [
        "<a href=\"https://colab.research.google.com/github/naveenkumark1/EVA4/blob/master/Week2/pytorch_practice.ipynb\" target=\"_parent\"><img src=\"https://colab.research.google.com/assets/colab-badge.svg\" alt=\"Open In Colab\"/></a>"
      ]
    },
    {
      "cell_type": "code",
      "metadata": {
        "id": "u7X8JznTOrFW",
        "colab_type": "code",
        "colab": {}
      },
      "source": [
        "\n",
        "import torch                                      ## Import torch\n",
        "import torchvision                                ## Import torch vision for vision related data usage\n",
        "from torchvision import transforms, datasets      ## Import from torch vision importing ransforms and data sets for our use "
      ],
      "execution_count": 0,
      "outputs": []
    },
    {
      "cell_type": "code",
      "metadata": {
        "id": "6Lrnt3__O9mb",
        "colab_type": "code",
        "colab": {}
      },
      "source": [
        "## Getting the data \n",
        "# Trianing Data \n",
        "\n",
        "train =  datasets.MNIST(\"\",train= True, download= True, transform = transforms.Compose([transforms.ToTensor()]))\n",
        "# variable = datasets.MNIST(\"\" = keep data in local,\n",
        "            # train = Consider the data as a trinaing set \n",
        "            # download = Download the data fromt the internet and keep in local\n",
        "            # transform = Data is not natively in the form of TENSOR, So to convert in to tensor we use this, \n",
        "            # transform the PIL format image to a transformed verison ) # Same is avaiable in documentaiton \n",
        "\n",
        "\n",
        "# Insample data & out sample data !! -> data for training and dat afor testing \n",
        "\n",
        "# Testing data \n",
        "\n",
        "test = datasets.MNIST(\"\",train= False, download= True, transform=transforms.Compose([transforms.ToTensor()]))"
      ],
      "execution_count": 0,
      "outputs": []
    },
    {
      "cell_type": "code",
      "metadata": {
        "id": "Gg_7SO2SUrof",
        "colab_type": "code",
        "colab": {}
      },
      "source": [
        "# We will extract the data that is downloaded in to the train by using the \" torch.util.dataloader \"\n",
        "\n",
        "trainset = torch.utils.data.DataLoader(train, batch_size = 10, shuffle= True)\n",
        "\n",
        "# trainset = torch.utils.data.DDDDataLLLLoader(source, batch size , shuffle )\n",
        "\n",
        "# source = From where the data to be loaded \n",
        "# batch_size = How many of the items we need to pass through in one time to the network\n",
        "# shuffel = \n",
        "\n",
        "testset = torch.utils.data.DataLoader(test, batch_size = 10, shuffle = True)"
      ],
      "execution_count": 0,
      "outputs": []
    },
    {
      "cell_type": "code",
      "metadata": {
        "id": "b_9igw9TXAwp",
        "colab_type": "code",
        "colab": {}
      },
      "source": [
        ""
      ],
      "execution_count": 0,
      "outputs": []
    }
  ]
}