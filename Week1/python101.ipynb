{
  "nbformat": 4,
  "nbformat_minor": 0,
  "metadata": {
    "colab": {
      "name": "Untitled3.ipynb",
      "provenance": [],
      "collapsed_sections": [],
      "authorship_tag": "ABX9TyP2Cy2TimQnL51pARm9ZXeG",
      "include_colab_link": true
    },
    "kernelspec": {
      "name": "python3",
      "display_name": "Python 3"
    }
  },
  "cells": [
    {
      "cell_type": "markdown",
      "metadata": {
        "id": "view-in-github",
        "colab_type": "text"
      },
      "source": [
        "<a href=\"https://colab.research.google.com/github/naveenkumark1/EVA4/blob/master/Week1/python101.ipynb\" target=\"_parent\"><img src=\"https://colab.research.google.com/assets/colab-badge.svg\" alt=\"Open In Colab\"/></a>"
      ]
    },
    {
      "cell_type": "code",
      "metadata": {
        "id": "d0Pwq41FMm2V",
        "colab_type": "code",
        "outputId": "b0854161-3fba-4adb-ed3a-b4a315485337",
        "colab": {
          "base_uri": "https://localhost:8080/",
          "height": 34
        }
      },
      "source": [
        "print(\"OM\")"
      ],
      "execution_count": 0,
      "outputs": [
        {
          "output_type": "stream",
          "text": [
            "OM\n"
          ],
          "name": "stdout"
        }
      ]
    },
    {
      "cell_type": "markdown",
      "metadata": {
        "id": "FoeMEotINItZ",
        "colab_type": "text"
      },
      "source": [
        "This python notbook is for the python 101 practice code"
      ]
    },
    {
      "cell_type": "markdown",
      "metadata": {
        "id": "lfxE0k04NVKm",
        "colab_type": "text"
      },
      "source": [
        "This is a MUST Python Refresher. You must finish this notebook as a part of overall grading.\n",
        "\n",
        "Majority of this notebook is inspired from: Stanford's Python Refresher which can be found at: https://cs231n.github.io/python-numpy-tutorial/\n",
        "\n",
        "We have modified the original notebook and added some questions here. You need to find the solutions and provide answers in your Q1 - Python 101 Quiz."
      ]
    },
    {
      "cell_type": "markdown",
      "metadata": {
        "id": "_jFirjFNNbs3",
        "colab_type": "text"
      },
      "source": [
        "# Python\n",
        "Python is a high-level, dynamically typed multiparadigm programming language. Python code is often said to be almost like pseudocode, since it allows you to express very powerful ideas in very few lines of code while being very readable.\n",
        "New Section\n",
        "\n",
        "# Python Versions\n",
        "There are currently two different supported versions of Python, 2.7 and 3.5. Somewhat confusingly, Python 3.0 introduced many backwards-incompatible changes to the language, so code written for 2.7 may not work under 3.5 and vice versa. For this class all code will use Python 3.5 or higher.\n",
        "\n",
        "You can check your Python version at the command line by running."
      ]
    },
    {
      "cell_type": "code",
      "metadata": {
        "id": "9N40EJdKNms_",
        "colab_type": "code",
        "outputId": "2f833e48-b5a9-4b9b-f087-e5d9631b9d4e",
        "colab": {
          "base_uri": "https://localhost:8080/",
          "height": 34
        }
      },
      "source": [
        "!python --version"
      ],
      "execution_count": 0,
      "outputs": [
        {
          "output_type": "stream",
          "text": [
            "Python 3.6.9\n"
          ],
          "name": "stdout"
        }
      ]
    },
    {
      "cell_type": "markdown",
      "metadata": {
        "id": "Qg6wiXkjPFge",
        "colab_type": "text"
      },
      "source": [
        "# Basic data types\n",
        "\n",
        "Like most languages, Python has a number of basic types including integers, floats, booleans, and strings. These data types behave in ways that are familiar from other programming languages.\n",
        "\n",
        "Numbers: Integers and floats work as you would expect from other languages:"
      ]
    },
    {
      "cell_type": "code",
      "metadata": {
        "id": "NIt9shhUPIBD",
        "colab_type": "code",
        "outputId": "210dbdbe-fd56-4022-eddf-edf3a103f33c",
        "colab": {
          "base_uri": "https://localhost:8080/",
          "height": 210
        }
      },
      "source": [
        "x = 37 # Initial Value of x\n",
        "print(type(x)) # Prints \"<class 'int'>\"\n",
        "print(x)       # Prints \"3\"\n",
        "print(x + 1)   # Addition; prints \"4\"\n",
        "print(x - 1)   # Subtraction; prints \"2\"\n",
        "print(x * 2)   # Multiplication; prints \"6\" - Error\n",
        "print(x ** 2)  # Exponentiation; prints \"9\" - Error\n",
        "x += 1\n",
        "print(x)  # Prints \"4\" - Error\n",
        "x *= 2\n",
        "print(x)  # Prints \"8\" - Error\n",
        "y = 2.5\n",
        "print(type(y)) # Prints \"<class 'float'>\"\n",
        "print(y, y + 1, y * 2, y ** 2) # Prints \"2.5 3.5 5.0 6.25\"\n",
        "\n",
        "x = x * y + x + y # Final value of x\n",
        "print(\"Final Value of x is:\", x)"
      ],
      "execution_count": 0,
      "outputs": [
        {
          "output_type": "stream",
          "text": [
            "<class 'int'>\n",
            "37\n",
            "38\n",
            "36\n",
            "74\n",
            "1369\n",
            "38\n",
            "76\n",
            "<class 'float'>\n",
            "2.5 3.5 5.0 6.25\n",
            "Final Value of x is: 268.5\n"
          ],
          "name": "stdout"
        }
      ]
    },
    {
      "cell_type": "markdown",
      "metadata": {
        "id": "o-wnbTWaPOfV",
        "colab_type": "text"
      },
      "source": [
        "# Quiz Question 1\n",
        "\n",
        "With what integer value shall x be initialized as, such that Final Value of x is 268.5? Please mention the answer in INT value without decimal (e.g. 4, 2, 12, etc.).\n",
        "\n",
        "Please answer this question in the Quiz Section.\n",
        "\n",
        "# Booleans\n",
        "\n",
        "Python implements all of the usual operators for Boolean logic, but uses English words rather than symbols (&&, ||, etc.):"
      ]
    },
    {
      "cell_type": "code",
      "metadata": {
        "id": "gc6FKo5DPV5c",
        "colab_type": "code",
        "outputId": "a9079c3e-a4cc-4df8-cf4a-bb2a4c00f5c2",
        "colab": {
          "base_uri": "https://localhost:8080/",
          "height": 105
        }
      },
      "source": [
        "t = True\n",
        "f = False\n",
        "print(type(t)) # Prints \"<class 'bool'>\"\n",
        "print(t and f) # Logical AND; prints \"False\"\n",
        "print(t or f)  # Logical OR; prints \"True\"\n",
        "print(not t)   # Logical NOT; prints \"False\"\n",
        "print(t != f)  # Logical XOR; prints \"True\""
      ],
      "execution_count": 0,
      "outputs": [
        {
          "output_type": "stream",
          "text": [
            "<class 'bool'>\n",
            "False\n",
            "True\n",
            "False\n",
            "True\n"
          ],
          "name": "stdout"
        }
      ]
    },
    {
      "cell_type": "markdown",
      "metadata": {
        "id": "9bLDh0-zQ8la",
        "colab_type": "text"
      },
      "source": [
        "# Quiz Question 2\n",
        "\n",
        "What is the value of"
      ]
    },
    {
      "cell_type": "code",
      "metadata": {
        "id": "gzHdCl5DQ-3s",
        "colab_type": "code",
        "outputId": "22052f09-9599-4430-fd7d-6b12666d8270",
        "colab": {
          "base_uri": "https://localhost:8080/",
          "height": 34
        }
      },
      "source": [
        "not ( not t + f * t)"
      ],
      "execution_count": 0,
      "outputs": [
        {
          "output_type": "execute_result",
          "data": {
            "text/plain": [
              "True"
            ]
          },
          "metadata": {
            "tags": []
          },
          "execution_count": 6
        }
      ]
    },
    {
      "cell_type": "markdown",
      "metadata": {
        "id": "-yZn8cI-Rc7E",
        "colab_type": "text"
      },
      "source": [
        "# Strings\n",
        "\n",
        "Python has great support for strings:"
      ]
    },
    {
      "cell_type": "code",
      "metadata": {
        "id": "d_Y_sTlGRfdt",
        "colab_type": "code",
        "outputId": "7906d4d2-52c3-475c-8192-5d27db5126a2",
        "colab": {
          "base_uri": "https://localhost:8080/",
          "height": 158
        }
      },
      "source": [
        "hello = 'hello'    # String literals can use single quotes\n",
        "world = \"world\"    # or double quotes; it does not matter.\n",
        "print(hello)       # Prints \"hello\"\n",
        "print(len(hello))  # String length; prints \"5\"\n",
        "hw = hello + ' ' + world  # String concatenation\n",
        "print(hw)  # prints \"hello world\"\n",
        "hw6 = '%s %s %d' % (hello, world, 6)  # sprintf style string formatting\n",
        "print(hw6)  # prints \"hello world 6\"\n",
        "\n",
        "location = 0\n",
        "print(hw6[location])\n",
        "\n",
        "location = -1\n",
        "print(hw6[location])\n",
        "\n",
        "location = 12\n",
        "print(hw6[location])\n",
        "\n",
        "location = len(hw6)-1\n",
        "print(hw6[location])"
      ],
      "execution_count": 0,
      "outputs": [
        {
          "output_type": "stream",
          "text": [
            "hello\n",
            "5\n",
            "hello world\n",
            "hello world 6\n",
            "h\n",
            "6\n",
            "6\n",
            "6\n"
          ],
          "name": "stdout"
        }
      ]
    },
    {
      "cell_type": "markdown",
      "metadata": {
        "id": "ID402h8lUrhW",
        "colab_type": "text"
      },
      "source": [
        "# Quiz Question 3\n",
        "\n",
        "What should be the value of \"location\" such that print(hw6[location]) prints 6?"
      ]
    },
    {
      "cell_type": "markdown",
      "metadata": {
        "id": "1rFiaZfpUv0h",
        "colab_type": "text"
      },
      "source": [
        "# Containers\n",
        "\n",
        "Python includes several built-in container types: lists, dictionaries,sets, and tuples.\n",
        "\n",
        "Lists A list is the Python equivalent of an array, but is resizeable and can contain elements of different types:"
      ]
    },
    {
      "cell_type": "code",
      "metadata": {
        "id": "LLE4gMi0mtfT",
        "colab_type": "code",
        "colab": {
          "base_uri": "https://localhost:8080/",
          "height": 105
        },
        "outputId": "d09e5324-562d-4d48-86bd-eacfd44a0234"
      },
      "source": [
        "xs = [3, 1, 2]    # Create a list\n",
        "print(xs, xs[2])  # Prints \"[3, 1, 2] 2\"\n",
        "print(xs[-1])     # Negative indices count from the end of the list; prints \"2\"\n",
        "xs[2] = 'foo'     # Lists can contain elements of different types\n",
        "print(xs)         # Prints \"[3, 1, 'foo']\"\n",
        "xs.append('bar')  # Add a new element to the end of the list\n",
        "print(xs)         # Prints \"[3, 1, 'foo', 'bar']\"\n",
        "x = xs.pop()      # Remove and return the last element of the list\n",
        "print(x, xs)      # Prints \"bar [3, 1, 'foo']\""
      ],
      "execution_count": 1,
      "outputs": [
        {
          "output_type": "stream",
          "text": [
            "[3, 1, 2] 2\n",
            "2\n",
            "[3, 1, 'foo']\n",
            "[3, 1, 'foo', 'bar']\n",
            "bar [3, 1, 'foo']\n"
          ],
          "name": "stdout"
        }
      ]
    },
    {
      "cell_type": "code",
      "metadata": {
        "id": "k_10Wk3mmu-n",
        "colab_type": "code",
        "colab": {
          "base_uri": "https://localhost:8080/",
          "height": 158
        },
        "outputId": "e6cb29f2-7e4d-4d97-954d-d992e976a841"
      },
      "source": [
        "rng = 9\n",
        "nums = list(range(rng))     # range is a built-in function that creates a list of integers\n",
        "print(nums)               # Prints \"[0, 1, 2, 3, 4]\"\n",
        "print(nums[2:4])          # Get a slice from index 2 to 4 (exclusive); prints \"[2, 3]\"\n",
        "print(nums[2:])           # Get a slice from index 2 to the end; prints \"[2, 3, 4]\"\n",
        "print(nums[:2])           # Get a slice from the start to index 2 (exclusive); prints \"[0, 1]\"\n",
        "print(nums[:])            # Get a slice of the whole list; prints \"[0, 1, 2, 3, 4]\"\n",
        "print(nums[:-1])          # Slice indices can be negative; prints \"[0, 1, 2, 3]\"\n",
        "nums[2:4] = [8, 9]        # Assign a new sublist to a slice\n",
        "print(nums)               # Prints \"[0, 1, 8, 9, 4]\"\n",
        "print(sum(nums))"
      ],
      "execution_count": 8,
      "outputs": [
        {
          "output_type": "stream",
          "text": [
            "[0, 1, 2, 3, 4, 5, 6, 7, 8]\n",
            "[2, 3]\n",
            "[2, 3, 4, 5, 6, 7, 8]\n",
            "[0, 1]\n",
            "[0, 1, 2, 3, 4, 5, 6, 7, 8]\n",
            "[0, 1, 2, 3, 4, 5, 6, 7]\n",
            "[0, 1, 8, 9, 4, 5, 6, 7, 8]\n",
            "48\n"
          ],
          "name": "stdout"
        }
      ]
    },
    {
      "cell_type": "markdown",
      "metadata": {
        "id": "JXf7cf9nnRz7",
        "colab_type": "text"
      },
      "source": [
        "# Quiz Question 4\n",
        "\n",
        "What should be the value of rng, such that print(sum(nums)) prints 48?\n",
        "\n",
        "Loops\n",
        "\n",
        "You can loop over elements of a list like this:"
      ]
    },
    {
      "cell_type": "code",
      "metadata": {
        "id": "ZIBG1c9_oPxa",
        "colab_type": "code",
        "colab": {
          "base_uri": "https://localhost:8080/",
          "height": 70
        },
        "outputId": "7122f4e7-1671-4450-c684-a950e0a15837"
      },
      "source": [
        "animals = ['cat', 'dog', 'monkey']\n",
        "for animal in animals:\n",
        "    print(animal)"
      ],
      "execution_count": 9,
      "outputs": [
        {
          "output_type": "stream",
          "text": [
            "cat\n",
            "dog\n",
            "monkey\n"
          ],
          "name": "stdout"
        }
      ]
    },
    {
      "cell_type": "markdown",
      "metadata": {
        "id": "_VcRo_JkoSj_",
        "colab_type": "text"
      },
      "source": [
        "If you want access to the index of each element within the body of a loop, use the built-in enumerate function:"
      ]
    },
    {
      "cell_type": "code",
      "metadata": {
        "id": "3WjrJoIOoTeT",
        "colab_type": "code",
        "colab": {
          "base_uri": "https://localhost:8080/",
          "height": 70
        },
        "outputId": "46bc6976-d906-47b4-a914-21bb25e77baa"
      },
      "source": [
        "animals = ['cat', 'dog', 'monkey']\n",
        "for idx, animal in enumerate(animals):\n",
        "    print('#%d: %s' % (idx + 1, animal))"
      ],
      "execution_count": 10,
      "outputs": [
        {
          "output_type": "stream",
          "text": [
            "#1: cat\n",
            "#2: dog\n",
            "#3: monkey\n"
          ],
          "name": "stdout"
        }
      ]
    },
    {
      "cell_type": "markdown",
      "metadata": {
        "id": "2QXl4DPloZfx",
        "colab_type": "text"
      },
      "source": [
        "List comprehensions\n",
        "\n",
        "When programming, frequently we want to transform one type of data into another. As a simple example, consider the following code that computes square numbers:"
      ]
    },
    {
      "cell_type": "code",
      "metadata": {
        "id": "FWZ6DUwhodZF",
        "colab_type": "code",
        "colab": {
          "base_uri": "https://localhost:8080/",
          "height": 34
        },
        "outputId": "12c6356c-46bf-4122-9957-27be68c2dd8b"
      },
      "source": [
        "rng2 = 7\n",
        "nums = range(rng2)\n",
        "squares = []\n",
        "for x in nums:\n",
        "    squares.append(x ** 2)\n",
        "print(sum(squares))"
      ],
      "execution_count": 15,
      "outputs": [
        {
          "output_type": "stream",
          "text": [
            "91\n"
          ],
          "name": "stdout"
        }
      ]
    }
  ]
}