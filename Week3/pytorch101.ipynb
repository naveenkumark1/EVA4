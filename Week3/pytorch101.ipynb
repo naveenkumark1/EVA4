{
  "nbformat": 4,
  "nbformat_minor": 0,
  "metadata": {
    "colab": {
      "name": "Untitled6.ipynb",
      "provenance": [],
      "collapsed_sections": [],
      "authorship_tag": "ABX9TyM6B676y+baEOB5serSpEVs",
      "include_colab_link": true
    },
    "kernelspec": {
      "name": "python3",
      "display_name": "Python 3"
    },
    "accelerator": "GPU"
  },
  "cells": [
    {
      "cell_type": "markdown",
      "metadata": {
        "id": "view-in-github",
        "colab_type": "text"
      },
      "source": [
        "<a href=\"https://colab.research.google.com/github/naveenkumark1/Extensive_Vision_and_AI_V.4/blob/master/Week3/pytorch101.ipynb\" target=\"_parent\"><img src=\"https://colab.research.google.com/assets/colab-badge.svg\" alt=\"Open In Colab\"/></a>"
      ]
    },
    {
      "cell_type": "code",
      "metadata": {
        "id": "HUSeLXLSdYjr",
        "colab_type": "code",
        "colab": {}
      },
      "source": [
        "## Pytorch 101\n",
        "# Pytorch is a machine leanring frame work that helps to build models for research prototyping and also for deployment"
      ],
      "execution_count": 0,
      "outputs": []
    },
    {
      "cell_type": "markdown",
      "metadata": {
        "id": "Dc62HnBGefwh",
        "colab_type": "text"
      },
      "source": [
        "## Pytorch - Dataframes\n",
        "#### In pytorch we have a data frame called Tensor - It is the generalisation of matrix and arrays to a higher dimension.\n",
        "\n",
        "#### Tensor is an entity with defined order or rank \n",
        "\n",
        "#### Scalar - 0 order tensor\n",
        "#### Vector - 1 order tensor \n",
        "#### Matrix - 2 order tensor\n",
        "#### Array  - 3 order tensor\n"
      ]
    },
    {
      "cell_type": "code",
      "metadata": {
        "id": "5LMyE9nbgxLS",
        "colab_type": "code",
        "colab": {}
      },
      "source": [
        "## Tensor Basics \n",
        "## Import Libraries \n",
        "\n",
        "import numpy as np\n",
        "import torch"
      ],
      "execution_count": 0,
      "outputs": []
    },
    {
      "cell_type": "code",
      "metadata": {
        "id": "Elt_E5UklqAF",
        "colab_type": "code",
        "colab": {
          "base_uri": "https://localhost:8080/",
          "height": 34
        },
        "outputId": "7a978e9f-4833-4335-82b1-47736ddfafb4"
      },
      "source": [
        "torch.zeros(0)  ## 0 order with zeros "
      ],
      "execution_count": 4,
      "outputs": [
        {
          "output_type": "execute_result",
          "data": {
            "text/plain": [
              "tensor([])"
            ]
          },
          "metadata": {
            "tags": []
          },
          "execution_count": 4
        }
      ]
    },
    {
      "cell_type": "code",
      "metadata": {
        "id": "3a64nhLtl8NX",
        "colab_type": "code",
        "colab": {
          "base_uri": "https://localhost:8080/",
          "height": 34
        },
        "outputId": "086bee94-7309-437e-8f37-6bbb783f3a22"
      },
      "source": [
        "torch.zeros(1,2)  ## 1 Order "
      ],
      "execution_count": 5,
      "outputs": [
        {
          "output_type": "execute_result",
          "data": {
            "text/plain": [
              "tensor([[0., 0.]])"
            ]
          },
          "metadata": {
            "tags": []
          },
          "execution_count": 5
        }
      ]
    },
    {
      "cell_type": "code",
      "metadata": {
        "id": "DPtkrHtMmHhv",
        "colab_type": "code",
        "colab": {
          "base_uri": "https://localhost:8080/",
          "height": 52
        },
        "outputId": "792f6333-87d2-45e4-d931-a6bbde168d2e"
      },
      "source": [
        "torch.zeros(2,2) ## 2 order "
      ],
      "execution_count": 6,
      "outputs": [
        {
          "output_type": "execute_result",
          "data": {
            "text/plain": [
              "tensor([[0., 0.],\n",
              "        [0., 0.]])"
            ]
          },
          "metadata": {
            "tags": []
          },
          "execution_count": 6
        }
      ]
    },
    {
      "cell_type": "code",
      "metadata": {
        "id": "27BUDGgTmThq",
        "colab_type": "code",
        "colab": {
          "base_uri": "https://localhost:8080/",
          "height": 140
        },
        "outputId": "c2e5eb96-7b91-42f8-ef72-5fc6f1d96767"
      },
      "source": [
        "# Random 3 order tensor\n",
        "\n",
        "torch.rand(2,3,4)"
      ],
      "execution_count": 7,
      "outputs": [
        {
          "output_type": "execute_result",
          "data": {
            "text/plain": [
              "tensor([[[0.9246, 0.5666, 0.1529, 0.1573],\n",
              "         [0.1483, 0.2220, 0.3184, 0.4911],\n",
              "         [0.9950, 0.0849, 0.9451, 0.2813]],\n",
              "\n",
              "        [[0.5773, 0.7091, 0.1846, 0.9436],\n",
              "         [0.4185, 0.2142, 0.0644, 0.7990],\n",
              "         [0.9860, 0.4469, 0.3270, 0.8944]]])"
            ]
          },
          "metadata": {
            "tags": []
          },
          "execution_count": 7
        }
      ]
    },
    {
      "cell_type": "code",
      "metadata": {
        "id": "ek3DEL_OmhE4",
        "colab_type": "code",
        "colab": {
          "base_uri": "https://localhost:8080/",
          "height": 457
        },
        "outputId": "ac40d927-b15b-49f3-f89b-5ce79c7d7a11"
      },
      "source": [
        "torch.rand(3,2,3,2)"
      ],
      "execution_count": 8,
      "outputs": [
        {
          "output_type": "execute_result",
          "data": {
            "text/plain": [
              "tensor([[[[0.4755, 0.0305],\n",
              "          [0.0178, 0.2448],\n",
              "          [0.8213, 0.5701]],\n",
              "\n",
              "         [[0.4596, 0.0204],\n",
              "          [0.4485, 0.9785],\n",
              "          [0.4091, 0.6603]]],\n",
              "\n",
              "\n",
              "        [[[0.8153, 0.4955],\n",
              "          [0.0783, 0.6684],\n",
              "          [0.8401, 0.2982]],\n",
              "\n",
              "         [[0.9336, 0.1923],\n",
              "          [0.0782, 0.3600],\n",
              "          [0.9161, 0.4198]]],\n",
              "\n",
              "\n",
              "        [[[0.2113, 0.6698],\n",
              "          [0.3734, 0.9797],\n",
              "          [0.4144, 0.1260]],\n",
              "\n",
              "         [[0.1198, 0.7603],\n",
              "          [0.1875, 0.5249],\n",
              "          [0.4612, 0.4999]]]])"
            ]
          },
          "metadata": {
            "tags": []
          },
          "execution_count": 8
        }
      ]
    },
    {
      "cell_type": "markdown",
      "metadata": {
        "id": "aqzNcSRPu305",
        "colab_type": "text"
      },
      "source": [
        "REF : https://pytorch.org/docs/stable/torch.html#creation-ops"
      ]
    },
    {
      "cell_type": "markdown",
      "metadata": {
        "id": "TQyPmE5au_wH",
        "colab_type": "text"
      },
      "source": [
        "##Question 1:\n",
        "How many dimensions are there in a tensor defined as below?"
      ]
    },
    {
      "cell_type": "code",
      "metadata": {
        "id": "gAeJeDkTwcdz",
        "colab_type": "code",
        "colab": {
          "base_uri": "https://localhost:8080/",
          "height": 34
        },
        "outputId": "11b1b366-dd40-42a1-cccb-240609d3db07"
      },
      "source": [
        "torch.rand(1, 1, 1, 1)"
      ],
      "execution_count": 9,
      "outputs": [
        {
          "output_type": "execute_result",
          "data": {
            "text/plain": [
              "tensor([[[[0.4901]]]])"
            ]
          },
          "metadata": {
            "tags": []
          },
          "execution_count": 9
        }
      ]
    },
    {
      "cell_type": "markdown",
      "metadata": {
        "id": "QR4ubO2ww4iE",
        "colab_type": "text"
      },
      "source": [
        "### Ans 1 - 4 Dimension\n"
      ]
    },
    {
      "cell_type": "code",
      "metadata": {
        "id": "eJMIOy55vAv1",
        "colab_type": "code",
        "colab": {
          "base_uri": "https://localhost:8080/",
          "height": 545
        },
        "outputId": "2df04407-9bc7-48dd-93da-3f044e9a2966"
      },
      "source": [
        "torch.rand(2, 3, 4, 5)"
      ],
      "execution_count": 10,
      "outputs": [
        {
          "output_type": "execute_result",
          "data": {
            "text/plain": [
              "tensor([[[[0.2809, 0.0589, 0.2802, 0.3283, 0.1656],\n",
              "          [0.8770, 0.3118, 0.0609, 0.0205, 0.0315],\n",
              "          [0.6705, 0.0496, 0.5112, 0.4011, 0.4807],\n",
              "          [0.7547, 0.1232, 0.1053, 0.6530, 0.9750]],\n",
              "\n",
              "         [[0.8573, 0.6804, 0.5242, 0.1741, 0.7901],\n",
              "          [0.3481, 0.5976, 0.9414, 0.5110, 0.9543],\n",
              "          [0.5414, 0.7634, 0.0377, 0.4755, 0.7286],\n",
              "          [0.7612, 0.2691, 0.5230, 0.7228, 0.9563]],\n",
              "\n",
              "         [[0.7695, 0.1393, 0.2879, 0.6849, 0.3703],\n",
              "          [0.1704, 0.8487, 0.4913, 0.8266, 0.4879],\n",
              "          [0.8447, 0.6075, 0.0170, 0.0835, 0.5554],\n",
              "          [0.8108, 0.7392, 0.8888, 0.1212, 0.9381]]],\n",
              "\n",
              "\n",
              "        [[[0.5166, 0.0961, 0.8086, 0.1711, 0.6006],\n",
              "          [0.8288, 0.3401, 0.3702, 0.4448, 0.3563],\n",
              "          [0.6395, 0.3523, 0.9667, 0.6396, 0.0347],\n",
              "          [0.0641, 0.8161, 0.9659, 0.8801, 0.4999]],\n",
              "\n",
              "         [[0.3060, 0.2240, 0.7740, 0.2979, 0.4222],\n",
              "          [0.9170, 0.8365, 0.5702, 0.5098, 0.6032],\n",
              "          [0.3264, 0.4792, 0.4367, 0.9069, 0.8510],\n",
              "          [0.7316, 0.4903, 0.3246, 0.1541, 0.4068]],\n",
              "\n",
              "         [[0.1030, 0.9161, 0.2820, 0.5462, 0.1347],\n",
              "          [0.1552, 0.7933, 0.7112, 0.6263, 0.9616],\n",
              "          [0.4715, 0.4981, 0.7579, 0.2479, 0.0164],\n",
              "          [0.1112, 0.1179, 0.9807, 0.2699, 0.9170]]]])"
            ]
          },
          "metadata": {
            "tags": []
          },
          "execution_count": 10
        }
      ]
    },
    {
      "cell_type": "code",
      "metadata": {
        "id": "x4xUxMlvvxrV",
        "colab_type": "code",
        "colab": {
          "base_uri": "https://localhost:8080/",
          "height": 34
        },
        "outputId": "6273e034-d63d-4a78-a8ff-26e760c41109"
      },
      "source": [
        "torch.rand(2, 3, 4, 5).size()"
      ],
      "execution_count": 11,
      "outputs": [
        {
          "output_type": "execute_result",
          "data": {
            "text/plain": [
              "torch.Size([2, 3, 4, 5])"
            ]
          },
          "metadata": {
            "tags": []
          },
          "execution_count": 11
        }
      ]
    },
    {
      "cell_type": "code",
      "metadata": {
        "id": "maB53Qygvzbp",
        "colab_type": "code",
        "colab": {
          "base_uri": "https://localhost:8080/",
          "height": 34
        },
        "outputId": "f597f7a1-a0fd-4b97-e21e-f2103e06010e"
      },
      "source": [
        "torch.rand(2, 3, 4, 5).shape"
      ],
      "execution_count": 12,
      "outputs": [
        {
          "output_type": "execute_result",
          "data": {
            "text/plain": [
              "torch.Size([2, 3, 4, 5])"
            ]
          },
          "metadata": {
            "tags": []
          },
          "execution_count": 12
        }
      ]
    },
    {
      "cell_type": "code",
      "metadata": {
        "id": "HSJbpNqHYQKs",
        "colab_type": "code",
        "colab": {
          "base_uri": "https://localhost:8080/",
          "height": 34
        },
        "outputId": "63d1f8ee-9981-4656-e4c3-b2a5a9873850"
      },
      "source": [
        "torch.rand(1, 1, 1, 1).size()"
      ],
      "execution_count": 13,
      "outputs": [
        {
          "output_type": "execute_result",
          "data": {
            "text/plain": [
              "torch.Size([1, 1, 1, 1])"
            ]
          },
          "metadata": {
            "tags": []
          },
          "execution_count": 13
        }
      ]
    },
    {
      "cell_type": "markdown",
      "metadata": {
        "id": "l1k7YpPtZGwA",
        "colab_type": "text"
      },
      "source": [
        "## Python / NumPy / Pytorch interoperability\n",
        "You can create tensors from python as well as numpy arrays. You can also convert torch tensors to numpy arrays. So, the interoperability between torch and numpy is pretty good."
      ]
    },
    {
      "cell_type": "code",
      "metadata": {
        "id": "rHnRTu5jZGWv",
        "colab_type": "code",
        "colab": {
          "base_uri": "https://localhost:8080/",
          "height": 122
        },
        "outputId": "b8db9a2f-51ab-4b89-9d7b-825389a6ec7e"
      },
      "source": [
        "# Simple Python List\n",
        "python_list = [1, 2]\n",
        "\n",
        "# Create a numpy array from python list\n",
        "numpy_array = np.array(python_list)\n",
        "\n",
        "# Create a torch Tensor from python list\n",
        "tensor_from_list = torch.tensor(python_list)\n",
        "\n",
        "# Create a torch Tensor from Numpy array\n",
        "tensor_from_array = torch.tensor(numpy_array)                                   ### No Memory copy\n",
        "\n",
        "# Another way to create a torch Tensor from Numpy array (share same storage)\n",
        "tensor_from_array_v2 = torch.from_numpy(numpy_array)                            ### Memory Copy\n",
        "\n",
        "# Convert torch tensor to numpy array\n",
        "array_from_tensor = tensor_from_array.numpy()\n",
        "\n",
        "print('List:   ', python_list)\n",
        "print('Array:  ', numpy_array)\n",
        "print('Tensor: ', tensor_from_list)\n",
        "print('Tensor: ', tensor_from_array)\n",
        "print('Tensor: ', tensor_from_array_v2)\n",
        "print('Array:  ', array_from_tensor)"
      ],
      "execution_count": 14,
      "outputs": [
        {
          "output_type": "stream",
          "text": [
            "List:    [1, 2]\n",
            "Array:   [1 2]\n",
            "Tensor:  tensor([1, 2])\n",
            "Tensor:  tensor([1, 2])\n",
            "Tensor:  tensor([1, 2])\n",
            "Array:   [1 2]\n"
          ],
          "name": "stdout"
        }
      ]
    },
    {
      "cell_type": "markdown",
      "metadata": {
        "id": "WLiZRhgVerle",
        "colab_type": "text"
      },
      "source": [
        "Difference between `torch.Tensor` and `torch.from_numpy`\n",
        "\n",
        "Pytorch aims to be an effective library for computations. What does it mean? It means that pytorch avoids memory copying if it can."
      ]
    },
    {
      "cell_type": "code",
      "metadata": {
        "id": "vZKLjojBewpc",
        "colab_type": "code",
        "colab": {
          "base_uri": "https://localhost:8080/",
          "height": 70
        },
        "outputId": "7dcd7085-633d-4f4b-cc92-9a94b5d32ed5"
      },
      "source": [
        "numpy_array[0] = 10\n",
        "\n",
        "print('Array:  ', numpy_array)\n",
        "print('Tensor: ', tensor_from_array)\n",
        "print('Tensor: ', tensor_from_array_v2)"
      ],
      "execution_count": 15,
      "outputs": [
        {
          "output_type": "stream",
          "text": [
            "Array:   [10  2]\n",
            "Tensor:  tensor([1, 2])\n",
            "Tensor:  tensor([10,  2])\n"
          ],
          "name": "stdout"
        }
      ]
    },
    {
      "cell_type": "markdown",
      "metadata": {
        "id": "Ry-qvVXpfQtc",
        "colab_type": "text"
      },
      "source": [
        "## Question 2:\n",
        "\n",
        "Assume that we moved our complete (cats vs dogs) image dataset to numpy arrays. Then we use torch.from_numpy to convert these images to tensor. Then we apply a specific data augmentation strategy called \"CutOut\" which blocks a portion of the image directly on these tensors. What will happen to the accuracy of a model trained on this strategy compared to the one without this strategy? CutOut strategy is shown below:\n",
        "\n",
        "![alt text](https://)\n",
        "\n",
        "CutOut"
      ]
    },
    {
      "cell_type": "code",
      "metadata": {
        "id": "YCDgjV3-gJgh",
        "colab_type": "code",
        "colab": {
          "base_uri": "https://localhost:8080/",
          "height": 52
        },
        "outputId": "8c2ea3bb-c9a2-4c69-a086-2398a3ef1e4c"
      },
      "source": [
        "print(tensor_from_array_v2)\n",
        "tensor_from_array_v2[0]=tensor_from_array_v2[0]+1 ## Assume this is cut out\n",
        "tensor_from_array_v2"
      ],
      "execution_count": 16,
      "outputs": [
        {
          "output_type": "stream",
          "text": [
            "tensor([10,  2])\n"
          ],
          "name": "stdout"
        },
        {
          "output_type": "execute_result",
          "data": {
            "text/plain": [
              "tensor([11,  2])"
            ]
          },
          "metadata": {
            "tags": []
          },
          "execution_count": 16
        }
      ]
    },
    {
      "cell_type": "markdown",
      "metadata": {
        "id": "x0kmwQhCgkbU",
        "colab_type": "text"
      },
      "source": [
        "### Ans 2 : The accuracy will reduce"
      ]
    },
    {
      "cell_type": "markdown",
      "metadata": {
        "id": "LcMcYGoBjSg5",
        "colab_type": "text"
      },
      "source": [
        "##Question 3:\n",
        "\n",
        "Why do you think we are observing this behavior?\n",
        "\n",
        "We have two different ways to create tensor from its NumPy counterpart - one copies memory and another one shares the same underlying storage. It works in the opposite way:"
      ]
    },
    {
      "cell_type": "code",
      "metadata": {
        "id": "UcT43TT9jVvu",
        "colab_type": "code",
        "colab": {
          "base_uri": "https://localhost:8080/",
          "height": 87
        },
        "outputId": "272dfc29-c8b6-40a0-83be-b3b0e95e7aae"
      },
      "source": [
        "array_from_tensor = tensor_from_array.numpy()\n",
        "print('Tensor: ', tensor_from_array)\n",
        "print('Array: ', array_from_tensor)\n",
        "\n",
        "tensor_from_array[0] = 11\n",
        "print('Tensor: ', tensor_from_array)\n",
        "print('Array: ', array_from_tensor)"
      ],
      "execution_count": 17,
      "outputs": [
        {
          "output_type": "stream",
          "text": [
            "Tensor:  tensor([1, 2])\n",
            "Array:  [1 2]\n",
            "Tensor:  tensor([11,  2])\n",
            "Array:  [11  2]\n"
          ],
          "name": "stdout"
        }
      ]
    },
    {
      "cell_type": "markdown",
      "metadata": {
        "id": "qxz3g7--kGVr",
        "colab_type": "text"
      },
      "source": [
        "## Data types\n",
        "\n",
        "The basic data type of all Deep Learning-related operations is float, but sometimes you may need something else. Pytorch support different number types for its tensors the same way NumPy does it - by specifying the data type on tensor creation or via casting. Ths full list of supported data types can be found here.\n",
        "\n",
        "https://pytorch.org/docs/stable/tensors.html"
      ]
    },
    {
      "cell_type": "code",
      "metadata": {
        "id": "0-7p6sCvruEa",
        "colab_type": "code",
        "colab": {
          "base_uri": "https://localhost:8080/",
          "height": 158
        },
        "outputId": "02516c80-8004-4eae-a0cf-911c223a22f5"
      },
      "source": [
        "tensor = torch.zeros(2, 2)\n",
        "print('Tensor with default type: ', tensor)\n",
        "tensor = torch.zeros(2, 2, dtype=torch.float16)\n",
        "print('Tensor with 16-bit float: ', tensor)\n",
        "tensor = torch.zeros(2, 2, dtype=torch.int16)\n",
        "print('Tensor with integers: ', tensor)\n",
        "tensor = torch.zeros(2, 2, dtype=torch.bool)\n",
        "print('Tensor with boolean data: ', tensor)"
      ],
      "execution_count": 18,
      "outputs": [
        {
          "output_type": "stream",
          "text": [
            "Tensor with default type:  tensor([[0., 0.],\n",
            "        [0., 0.]])\n",
            "Tensor with 16-bit float:  tensor([[0., 0.],\n",
            "        [0., 0.]], dtype=torch.float16)\n",
            "Tensor with integers:  tensor([[0, 0],\n",
            "        [0, 0]], dtype=torch.int16)\n",
            "Tensor with boolean data:  tensor([[False, False],\n",
            "        [False, False]])\n"
          ],
          "name": "stdout"
        }
      ]
    },
    {
      "cell_type": "markdown",
      "metadata": {
        "id": "o5FETpG3treT",
        "colab_type": "text"
      },
      "source": [
        "## Question 4:\n",
        "We saw above that some times numpy and tensors share same storage and changing one changes the other. If we define a rank-2-tensor with ones (dtype of f16), and then convert it into a numpy data type using tensor.numpy() and store it in a variable called \"num\", and then we perform this operation num = num * 0.5, will the original tensor have 1.0s or 0.5s as its element values?"
      ]
    },
    {
      "cell_type": "code",
      "metadata": {
        "id": "0MDjOxj4tvfu",
        "colab_type": "code",
        "colab": {
          "base_uri": "https://localhost:8080/",
          "height": 122
        },
        "outputId": "c3c95599-669a-4359-bf12-8558e53834fb"
      },
      "source": [
        "tensor = torch.ones(2,2, dtype = torch.float16)\n",
        "num = tensor.numpy()\n",
        "print(num)\n",
        "num = num*0.5\n",
        "print(num)\n",
        "print(tensor)"
      ],
      "execution_count": 19,
      "outputs": [
        {
          "output_type": "stream",
          "text": [
            "[[1. 1.]\n",
            " [1. 1.]]\n",
            "[[0.5 0.5]\n",
            " [0.5 0.5]]\n",
            "tensor([[1., 1.],\n",
            "        [1., 1.]], dtype=torch.float16)\n"
          ],
          "name": "stdout"
        }
      ]
    },
    {
      "cell_type": "markdown",
      "metadata": {
        "id": "yDXuYJfoulQN",
        "colab_type": "text"
      },
      "source": [
        "### Ans 4 : The original tensor will have 1.0 as values"
      ]
    },
    {
      "cell_type": "markdown",
      "metadata": {
        "id": "8CpqB_oqvUX2",
        "colab_type": "text"
      },
      "source": [
        "## Question 5:\n",
        "If the operation `num = num*5` is changed to `num[:] = num*5` will the original tensor have 1.0s or 0.5s as its element values?"
      ]
    },
    {
      "cell_type": "code",
      "metadata": {
        "id": "3Q3cfkAgv3yB",
        "colab_type": "code",
        "colab": {
          "base_uri": "https://localhost:8080/",
          "height": 87
        },
        "outputId": "15e3085f-080e-4eef-a848-9df0fb0d7387"
      },
      "source": [
        "tensor = torch.ones(2,2, dtype = torch.float16)\n",
        "num = tensor.numpy()\n",
        "print(num)\n",
        "num[:]=num*0.5\n",
        "num"
      ],
      "execution_count": 20,
      "outputs": [
        {
          "output_type": "stream",
          "text": [
            "[[1. 1.]\n",
            " [1. 1.]]\n"
          ],
          "name": "stdout"
        },
        {
          "output_type": "execute_result",
          "data": {
            "text/plain": [
              "array([[0.5, 0.5],\n",
              "       [0.5, 0.5]], dtype=float16)"
            ]
          },
          "metadata": {
            "tags": []
          },
          "execution_count": 20
        }
      ]
    },
    {
      "cell_type": "markdown",
      "metadata": {
        "id": "flyyqmOQwu9A",
        "colab_type": "text"
      },
      "source": [
        "#### Ans 5 : The tensor will have 0.5 as values\n"
      ]
    },
    {
      "cell_type": "markdown",
      "metadata": {
        "id": "FlDedSzxw-d8",
        "colab_type": "text"
      },
      "source": [
        "# Indexing\n",
        "\n",
        "Tensor provides access to its elements via the same `[]` operation as a regular python list or NumPy array. However, as you may recall from NumPy usage, the full power of math libraries is accessible only via vectorized operations, i.e. operations without explicit looping over all vector elements in python and using implicit optimized loops in C/C++/CUDA/Fortran/etc. available via special function calls. Pytorch employs the same paradigm and provides a wide range of vectorized operations. Let's take a look at some examples.\n",
        "\n",
        "Joining a list of tensors together with `torch.cat`"
      ]
    },
    {
      "cell_type": "code",
      "metadata": {
        "id": "xu2nqaRgxazo",
        "colab_type": "code",
        "colab": {
          "base_uri": "https://localhost:8080/",
          "height": 122
        },
        "outputId": "21a7d3e4-04d6-415b-bf95-de09001e640b"
      },
      "source": [
        "a = torch.zeros(3, 2)\n",
        "b = torch.ones(3, 2)\n",
        "print(torch.cat((a, b), dim=0))   #Join row wise - Axis 0"
      ],
      "execution_count": 21,
      "outputs": [
        {
          "output_type": "stream",
          "text": [
            "tensor([[0., 0.],\n",
            "        [0., 0.],\n",
            "        [0., 0.],\n",
            "        [1., 1.],\n",
            "        [1., 1.],\n",
            "        [1., 1.]])\n"
          ],
          "name": "stdout"
        }
      ]
    },
    {
      "cell_type": "code",
      "metadata": {
        "id": "iaGjDJDwxc3M",
        "colab_type": "code",
        "colab": {
          "base_uri": "https://localhost:8080/",
          "height": 70
        },
        "outputId": "179db040-f3d9-48ac-f709-0b9a041c18b9"
      },
      "source": [
        "a = torch.zeros(3, 2)\n",
        "b = torch.ones(3, 2)\n",
        "print(torch.cat((a, b), dim=1))   #Join column wise - Axis = 1"
      ],
      "execution_count": 22,
      "outputs": [
        {
          "output_type": "stream",
          "text": [
            "tensor([[0., 0., 1., 1.],\n",
            "        [0., 0., 1., 1.],\n",
            "        [0., 0., 1., 1.]])\n"
          ],
          "name": "stdout"
        }
      ]
    },
    {
      "cell_type": "markdown",
      "metadata": {
        "id": "164s0_71xzh1",
        "colab_type": "text"
      },
      "source": [
        "## Question 6:\n",
        "\n",
        "Is the transpose of concatenated a & b tensor on dimension 1, same as the contatenated tensor of a & b on dimension 0?"
      ]
    },
    {
      "cell_type": "code",
      "metadata": {
        "id": "ULXHmj37yNEG",
        "colab_type": "code",
        "colab": {
          "base_uri": "https://localhost:8080/",
          "height": 87
        },
        "outputId": "0949d63e-b054-4da8-c976-3f005ce78b9d"
      },
      "source": [
        "a = torch.zeros(3, 2)\n",
        "b = torch.ones(3, 2)\n",
        "\n",
        "print(torch.flatten(torch.t(torch.cat((a, b), dim=0))))\n",
        "print(torch.flatten(torch.t(torch.cat((a, b), dim=1))))\n",
        "\n",
        "torch.flatten(torch.t(torch.cat((a, b), dim=0)))==torch.flatten(torch.t(torch.cat((a, b), dim=1)))\n"
      ],
      "execution_count": 23,
      "outputs": [
        {
          "output_type": "stream",
          "text": [
            "tensor([0., 0., 0., 1., 1., 1., 0., 0., 0., 1., 1., 1.])\n",
            "tensor([0., 0., 0., 0., 0., 0., 1., 1., 1., 1., 1., 1.])\n"
          ],
          "name": "stdout"
        },
        {
          "output_type": "execute_result",
          "data": {
            "text/plain": [
              "tensor([ True,  True,  True, False, False, False, False, False, False,  True,\n",
              "         True,  True])"
            ]
          },
          "metadata": {
            "tags": []
          },
          "execution_count": 23
        }
      ]
    },
    {
      "cell_type": "markdown",
      "metadata": {
        "id": "CakaPSukz-81",
        "colab_type": "text"
      },
      "source": [
        "#### Ans 6 : Not the same"
      ]
    },
    {
      "cell_type": "markdown",
      "metadata": {
        "id": "_Y3EsNp81Jcg",
        "colab_type": "text"
      },
      "source": [
        "#### Indexing with another tensor/array:"
      ]
    },
    {
      "cell_type": "code",
      "metadata": {
        "id": "wjqeD1c41OE0",
        "colab_type": "code",
        "colab": {
          "base_uri": "https://localhost:8080/",
          "height": 140
        },
        "outputId": "f8f4adea-9886-4be4-f5e7-3285e86e946f"
      },
      "source": [
        "a = torch.arange(start=0, end=10)\n",
        "indices = np.arange(0, 10) > 5\n",
        "print(a)\n",
        "\n",
        "print(\"---------------------\")\n",
        "print(indices)\n",
        "print(a[indices])\n",
        "\n",
        "indices = torch.arange(start=0, end=10) %5\n",
        "print(\"---------------------\")\n",
        "print(indices)\n",
        "print(a[indices])"
      ],
      "execution_count": 24,
      "outputs": [
        {
          "output_type": "stream",
          "text": [
            "tensor([0, 1, 2, 3, 4, 5, 6, 7, 8, 9])\n",
            "---------------------\n",
            "[False False False False False False  True  True  True  True]\n",
            "tensor([6, 7, 8, 9])\n",
            "---------------------\n",
            "tensor([0, 1, 2, 3, 4, 0, 1, 2, 3, 4])\n",
            "tensor([0, 1, 2, 3, 4, 0, 1, 2, 3, 4])\n"
          ],
          "name": "stdout"
        }
      ]
    },
    {
      "cell_type": "markdown",
      "metadata": {
        "id": "MBeWxxr024jG",
        "colab_type": "text"
      },
      "source": [
        "## Question 7:\n",
        "\n",
        "`a` is defined as `torch.arange(start=0, end=10)`. We will create` b` using the two operations as below. In both cases do we get the same value?\n",
        "\n",
        " \n",
        "\n",
        "1.   Indices variable created by the modulo operation on arange between 0 and 10. Then a new varialble `b` is created from `a` using the last 5 elements of indices.\n",
        "2.   Indices variable created by the modulo operation on arange betwenn 1 and 11. Then a new varialble `b` is created from `a` using the last 5 elements of indices."
      ]
    },
    {
      "cell_type": "code",
      "metadata": {
        "id": "8fgT_Ol53U9z",
        "colab_type": "code",
        "colab": {
          "base_uri": "https://localhost:8080/",
          "height": 70
        },
        "outputId": "d188af46-eebf-420d-e122-ae7c0978ed37"
      },
      "source": [
        "a = torch.arange(start=0,end=10)\n",
        "print(a)\n",
        "\n",
        "indices = torch.arange(start=0, end=10) % 5\n",
        "print(indices)\n",
        "\n",
        "b = a[-5:]\n",
        "print(b)"
      ],
      "execution_count": 25,
      "outputs": [
        {
          "output_type": "stream",
          "text": [
            "tensor([0, 1, 2, 3, 4, 5, 6, 7, 8, 9])\n",
            "tensor([0, 1, 2, 3, 4, 0, 1, 2, 3, 4])\n",
            "tensor([5, 6, 7, 8, 9])\n"
          ],
          "name": "stdout"
        }
      ]
    },
    {
      "cell_type": "code",
      "metadata": {
        "id": "MbgyBs5CGzhp",
        "colab_type": "code",
        "colab": {
          "base_uri": "https://localhost:8080/",
          "height": 70
        },
        "outputId": "13edac85-0cd0-442e-91e7-df2cb8252c84"
      },
      "source": [
        "a = torch.arange(start=1,end=11)\n",
        "print(a)\n",
        "\n",
        "indices = torch.arange(start=0, end=10) % 5\n",
        "print(indices)\n",
        "\n",
        "b = a[-5:]\n",
        "print(b)"
      ],
      "execution_count": 26,
      "outputs": [
        {
          "output_type": "stream",
          "text": [
            "tensor([ 1,  2,  3,  4,  5,  6,  7,  8,  9, 10])\n",
            "tensor([0, 1, 2, 3, 4, 0, 1, 2, 3, 4])\n",
            "tensor([ 6,  7,  8,  9, 10])\n"
          ],
          "name": "stdout"
        }
      ]
    },
    {
      "cell_type": "markdown",
      "metadata": {
        "id": "8zzOtdzfGzSU",
        "colab_type": "text"
      },
      "source": [
        "### Ans 7 : Both of them are not same"
      ]
    },
    {
      "cell_type": "markdown",
      "metadata": {
        "id": "9XNy1330K-Kp",
        "colab_type": "text"
      },
      "source": [
        "##### What should we do if we have, say, rank-2-tensor and want to select only some rows?"
      ]
    },
    {
      "cell_type": "code",
      "metadata": {
        "id": "wzGZMaCnLBoi",
        "colab_type": "code",
        "colab": {
          "base_uri": "https://localhost:8080/",
          "height": 228
        },
        "outputId": "b9fbd84d-3cf4-4b76-ce4f-681f4d83f6aa"
      },
      "source": [
        "# Create a list of tensor to select the specific rows\n",
        "\n",
        "tensor = torch.rand((5, 3))\n",
        "rows = torch.tensor([0, 2])\n",
        "rows = torch.tensor([0, 2,3,3,4])\n",
        "\n",
        "print(tensor)\n",
        "print('-------------')\n",
        "print(rows)\n",
        "tensor[rows]"
      ],
      "execution_count": 27,
      "outputs": [
        {
          "output_type": "stream",
          "text": [
            "tensor([[0.1265, 0.4498, 0.4787],\n",
            "        [0.0136, 0.7387, 0.4931],\n",
            "        [0.2969, 0.2384, 0.2163],\n",
            "        [0.9595, 0.5952, 0.9447],\n",
            "        [0.9267, 0.7557, 0.3961]])\n",
            "-------------\n",
            "tensor([0, 2, 3, 3, 4])\n"
          ],
          "name": "stdout"
        },
        {
          "output_type": "execute_result",
          "data": {
            "text/plain": [
              "tensor([[0.1265, 0.4498, 0.4787],\n",
              "        [0.2969, 0.2384, 0.2163],\n",
              "        [0.9595, 0.5952, 0.9447],\n",
              "        [0.9595, 0.5952, 0.9447],\n",
              "        [0.9267, 0.7557, 0.3961]])"
            ]
          },
          "metadata": {
            "tags": []
          },
          "execution_count": 27
        }
      ]
    },
    {
      "cell_type": "markdown",
      "metadata": {
        "id": "EaOhKYJiOeIa",
        "colab_type": "text"
      },
      "source": [
        "## Question 8:\n",
        "Consider a tensor defined as `torch.rand((6, 5))`. Is the shape of the new tensor created by taking the 0th, 2nd and 4th row of the old tensor same as the shape of the a newer tensor created by taking the 0th, 2nd and 4th row of the old tensor after transposing it by operation `torch.transpose(tensor, 0, 1)` ?"
      ]
    },
    {
      "cell_type": "code",
      "metadata": {
        "id": "nuMPu-rzOyPY",
        "colab_type": "code",
        "colab": {
          "base_uri": "https://localhost:8080/",
          "height": 369
        },
        "outputId": "584ef8a7-7751-4860-f130-79a56c0349ce"
      },
      "source": [
        "tensor = torch.rand((6,5))\n",
        "print(tensor)\n",
        "rows = torch.tensor([0,2,4])\n",
        "print(\"###########\")\n",
        "print(tensor[rows])\n",
        "print(\"------------------------\")\n",
        "tensor2 = torch.transpose(tensor,0,1)\n",
        "print(tensor2)\n",
        "rows = torch.tensor([0,2,4])\n",
        "print(\"###########\")\n",
        "print(tensor2[rows])"
      ],
      "execution_count": 28,
      "outputs": [
        {
          "output_type": "stream",
          "text": [
            "tensor([[0.9549, 0.5885, 0.9858, 0.5392, 0.3323],\n",
            "        [0.3376, 0.4234, 0.2986, 0.7523, 0.9653],\n",
            "        [0.3708, 0.9787, 0.4402, 0.9136, 0.8287],\n",
            "        [0.9687, 0.1038, 0.2302, 0.2169, 0.5657],\n",
            "        [0.7379, 0.0106, 0.5198, 0.7596, 0.7252],\n",
            "        [0.0305, 0.0580, 0.3643, 0.4918, 0.3540]])\n",
            "###########\n",
            "tensor([[0.9549, 0.5885, 0.9858, 0.5392, 0.3323],\n",
            "        [0.3708, 0.9787, 0.4402, 0.9136, 0.8287],\n",
            "        [0.7379, 0.0106, 0.5198, 0.7596, 0.7252]])\n",
            "------------------------\n",
            "tensor([[0.9549, 0.3376, 0.3708, 0.9687, 0.7379, 0.0305],\n",
            "        [0.5885, 0.4234, 0.9787, 0.1038, 0.0106, 0.0580],\n",
            "        [0.9858, 0.2986, 0.4402, 0.2302, 0.5198, 0.3643],\n",
            "        [0.5392, 0.7523, 0.9136, 0.2169, 0.7596, 0.4918],\n",
            "        [0.3323, 0.9653, 0.8287, 0.5657, 0.7252, 0.3540]])\n",
            "###########\n",
            "tensor([[0.9549, 0.3376, 0.3708, 0.9687, 0.7379, 0.0305],\n",
            "        [0.9858, 0.2986, 0.4402, 0.2302, 0.5198, 0.3643],\n",
            "        [0.3323, 0.9653, 0.8287, 0.5657, 0.7252, 0.3540]])\n"
          ],
          "name": "stdout"
        }
      ]
    },
    {
      "cell_type": "markdown",
      "metadata": {
        "id": "-gXROISzPqik",
        "colab_type": "text"
      },
      "source": [
        "#### Ans 8 : Both are not same"
      ]
    },
    {
      "cell_type": "markdown",
      "metadata": {
        "id": "jKTXYenwStTc",
        "colab_type": "text"
      },
      "source": [
        "## Tensor Shapes\n",
        "Reshaping a tensor is a frequently used operation. We can change the shape of a tensor without the memory copying overhead. There are two methods for that: `reshape` and `view`.\n",
        "\n",
        "The difference is the following:\n",
        "\n",
        "view tries to return a tensor, and it shares the same memory with the original tensor. In case, if it cannot reuse the same memory due to some reason, it just fails.\n",
        "reshape always returns the tensor with the desired shape and tries to reuse the memory. If it cannot, it creates a copy\n",
        "Let's see with the help of an example:\n",
        "\n",
        "https://pytorch.org/docs/stable/tensors.html?highlight=view#torch.Tensor.view"
      ]
    },
    {
      "cell_type": "code",
      "metadata": {
        "id": "Sj4fwueZXcO2",
        "colab_type": "code",
        "colab": {
          "base_uri": "https://localhost:8080/",
          "height": 439
        },
        "outputId": "942c0be2-2bba-40aa-f72f-a061ebcdc688"
      },
      "source": [
        "tensor = torch.rand(2, 3, 4)\n",
        "print('Pointer to data: ', tensor.data_ptr())\n",
        "print('Shape: ', tensor.shape)\n",
        "print(\"---------------------------------------1\")\n",
        "\n",
        "reshaped = tensor.reshape(24)\n",
        "print(reshaped)\n",
        "print(\"---------------------------------------2\")\n",
        "view = tensor.view(3, 2, 4)\n",
        "print('Reshaped tensor - pointer to data', reshaped.data_ptr())\n",
        "print('Reshaped tensor shape ', reshaped.shape)\n",
        "print(\"---------------------------------------3\")\n",
        "print(view)\n",
        "print('Viewed tensor - pointer to data', view.data_ptr())\n",
        "print('Viewed tensor shape ', view.shape)\n",
        "print(\"---------------------------------------4\")\n",
        "\n",
        "assert tensor.data_ptr() == view.data_ptr()                                ### From here check below\n",
        "\n",
        "assert np.all(np.equal(tensor.numpy().flat, reshaped.numpy().flat))\n",
        "print('Original stride: ', tensor.stride())\n",
        "print('Reshaped stride: ', reshaped.stride())\n",
        "print('Viewed stride: ', view.stride())"
      ],
      "execution_count": 33,
      "outputs": [
        {
          "output_type": "stream",
          "text": [
            "Pointer to data:  97588224\n",
            "Shape:  torch.Size([2, 3, 4])\n",
            "---------------------------------------1\n",
            "tensor([0.4045, 0.1032, 0.6344, 0.2552, 0.9201, 0.5120, 0.5860, 0.0792, 0.9513,\n",
            "        0.4800, 0.7331, 0.8075, 0.5813, 0.3268, 0.4761, 0.5862, 0.7244, 0.6576,\n",
            "        0.1768, 0.4067, 0.2196, 0.1905, 0.0503, 0.3988])\n",
            "---------------------------------------2\n",
            "Reshaped tensor - pointer to data 97588224\n",
            "Reshaped tensor shape  torch.Size([24])\n",
            "---------------------------------------3\n",
            "tensor([[[0.4045, 0.1032, 0.6344, 0.2552],\n",
            "         [0.9201, 0.5120, 0.5860, 0.0792]],\n",
            "\n",
            "        [[0.9513, 0.4800, 0.7331, 0.8075],\n",
            "         [0.5813, 0.3268, 0.4761, 0.5862]],\n",
            "\n",
            "        [[0.7244, 0.6576, 0.1768, 0.4067],\n",
            "         [0.2196, 0.1905, 0.0503, 0.3988]]])\n",
            "Viewed tensor - pointer to data 97588224\n",
            "Viewed tensor shape  torch.Size([3, 2, 4])\n",
            "---------------------------------------4\n",
            "Original stride:  (12, 4, 1)\n",
            "Reshaped stride:  (1,)\n",
            "Viewed stride:  (8, 4, 1)\n"
          ],
          "name": "stdout"
        }
      ]
    },
    {
      "cell_type": "markdown",
      "metadata": {
        "id": "ClaSSdnPrJnQ",
        "colab_type": "text"
      },
      "source": [
        "The basic rule about reshaping the tensor is definitely that you cannot change the total number of elements in it, so the product of all tensor's dimensions should always be the same. It gives us the ability to avoid specifying one dimension when reshaping the tensor - Pytorch can calculate it for us:"
      ]
    },
    {
      "cell_type": "code",
      "metadata": {
        "id": "GZH_X_v0rL7A",
        "colab_type": "code",
        "colab": {
          "base_uri": "https://localhost:8080/",
          "height": 70
        },
        "outputId": "cae97fc5-d4e8-4f0f-e8f0-2fa513807357"
      },
      "source": [
        "print(tensor.reshape(3, 2, 4).shape)\n",
        "print(tensor.reshape(3, 2, -1).shape)\n",
        "print(tensor.reshape(3, -1, 4).shape)"
      ],
      "execution_count": 34,
      "outputs": [
        {
          "output_type": "stream",
          "text": [
            "torch.Size([3, 2, 4])\n",
            "torch.Size([3, 2, 4])\n",
            "torch.Size([3, 2, 4])\n"
          ],
          "name": "stdout"
        }
      ]
    },
    {
      "cell_type": "markdown",
      "metadata": {
        "id": "3jxnFpOErjt0",
        "colab_type": "text"
      },
      "source": [
        "## Question 9:\n",
        "\n",
        "Consider a tensor `a` created with `[1, 2, 3]` and `[1, 2, 3]` of size (2, 3) is reshaped with operation `.reshape(-1, 2)`. Also consider a tensor `b` created with [[2, 1]] and of size (1, 2), later operated with `view(2, -1)` operation.\n",
        "\n",
        "If we do a dot product of a and b (using `torch.mm`) and perform the sum of all the elements (using `torch.sum`) what do we get? (enter int value without any decimal point in the quiz)"
      ]
    },
    {
      "cell_type": "code",
      "metadata": {
        "id": "fjB1hCaUtVRj",
        "colab_type": "code",
        "colab": {
          "base_uri": "https://localhost:8080/",
          "height": 210
        },
        "outputId": "bc0478cf-5812-4362-f504-f517cf476458"
      },
      "source": [
        "a = torch.tensor([[1,2,3],[1,2,3]])\n",
        "print(a)\n",
        "print(\"------------ 1\")\n",
        "print(a.reshape(-1,2))\n",
        "print(\"------------ 2\")\n",
        "b = torch.tensor([[2,1]])\n",
        "print(b.view(2,-1))\n",
        "print(\"------------ 3\")\n",
        "torch.sum(torch.mm(a.reshape(-1,2),b.view(2,-1)))"
      ],
      "execution_count": 51,
      "outputs": [
        {
          "output_type": "stream",
          "text": [
            "tensor([[1, 2, 3],\n",
            "        [1, 2, 3]])\n",
            "------------ 1\n",
            "tensor([[1, 2],\n",
            "        [3, 1],\n",
            "        [2, 3]])\n",
            "------------ 2\n",
            "tensor([[2],\n",
            "        [1]])\n",
            "------------ 3\n"
          ],
          "name": "stdout"
        },
        {
          "output_type": "execute_result",
          "data": {
            "text/plain": [
              "tensor(18)"
            ]
          },
          "metadata": {
            "tags": []
          },
          "execution_count": 51
        }
      ]
    }
  ]
}