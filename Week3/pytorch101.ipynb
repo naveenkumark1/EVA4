{
  "nbformat": 4,
  "nbformat_minor": 0,
  "metadata": {
    "colab": {
      "name": "Untitled6.ipynb",
      "provenance": [],
      "collapsed_sections": [],
      "authorship_tag": "ABX9TyMILmqSa72P4Is7pdsXsCby",
      "include_colab_link": true
    },
    "kernelspec": {
      "name": "python3",
      "display_name": "Python 3"
    },
    "accelerator": "GPU"
  },
  "cells": [
    {
      "cell_type": "markdown",
      "metadata": {
        "id": "view-in-github",
        "colab_type": "text"
      },
      "source": [
        "<a href=\"https://colab.research.google.com/github/naveenkumark1/Extensive_Vision_and_AI_V.4/blob/master/Week3/pytorch101.ipynb\" target=\"_parent\"><img src=\"https://colab.research.google.com/assets/colab-badge.svg\" alt=\"Open In Colab\"/></a>"
      ]
    },
    {
      "cell_type": "code",
      "metadata": {
        "id": "HUSeLXLSdYjr",
        "colab_type": "code",
        "colab": {}
      },
      "source": [
        "## Pytorch 101\n",
        "# Pytorch is a machine leanring frame work that helps to build models for research prototyping and also for deployment"
      ],
      "execution_count": 0,
      "outputs": []
    },
    {
      "cell_type": "markdown",
      "metadata": {
        "id": "Dc62HnBGefwh",
        "colab_type": "text"
      },
      "source": [
        "## Pytorch - Dataframes\n",
        "#### In pytorch we have a data frame called Tensor - It is the generalisation of matrix and arrays to a higher dimension.\n",
        "\n",
        "#### Tensor is an entity with defined order or rank \n",
        "\n",
        "#### Scalar - 0 order tensor\n",
        "#### Vector - 1 order tensor \n",
        "#### Matrix - 2 order tensor\n",
        "#### Array  - 3 order tensor\n"
      ]
    },
    {
      "cell_type": "code",
      "metadata": {
        "id": "5LMyE9nbgxLS",
        "colab_type": "code",
        "colab": {}
      },
      "source": [
        "## Tensor Basics \n",
        "## Import Libraries \n",
        "\n",
        "import numpy as np\n",
        "import torch"
      ],
      "execution_count": 0,
      "outputs": []
    },
    {
      "cell_type": "code",
      "metadata": {
        "id": "Elt_E5UklqAF",
        "colab_type": "code",
        "colab": {
          "base_uri": "https://localhost:8080/",
          "height": 34
        },
        "outputId": "2224134d-1d58-4bc2-f537-10774905ee7f"
      },
      "source": [
        "torch.zeros(0)  ## 0 order with zeros "
      ],
      "execution_count": 4,
      "outputs": [
        {
          "output_type": "execute_result",
          "data": {
            "text/plain": [
              "tensor([])"
            ]
          },
          "metadata": {
            "tags": []
          },
          "execution_count": 4
        }
      ]
    },
    {
      "cell_type": "code",
      "metadata": {
        "id": "3a64nhLtl8NX",
        "colab_type": "code",
        "colab": {
          "base_uri": "https://localhost:8080/",
          "height": 34
        },
        "outputId": "54b0629d-4feb-4e68-af62-6f05a51b2e9f"
      },
      "source": [
        "torch.zeros(1,2)  ## 1 Order "
      ],
      "execution_count": 5,
      "outputs": [
        {
          "output_type": "execute_result",
          "data": {
            "text/plain": [
              "tensor([[0., 0.]])"
            ]
          },
          "metadata": {
            "tags": []
          },
          "execution_count": 5
        }
      ]
    },
    {
      "cell_type": "code",
      "metadata": {
        "id": "DPtkrHtMmHhv",
        "colab_type": "code",
        "colab": {
          "base_uri": "https://localhost:8080/",
          "height": 52
        },
        "outputId": "3e8e22ea-2839-4158-e5e3-99e4f593679b"
      },
      "source": [
        "torch.zeros(2,2) ## 2 order "
      ],
      "execution_count": 6,
      "outputs": [
        {
          "output_type": "execute_result",
          "data": {
            "text/plain": [
              "tensor([[0., 0.],\n",
              "        [0., 0.]])"
            ]
          },
          "metadata": {
            "tags": []
          },
          "execution_count": 6
        }
      ]
    },
    {
      "cell_type": "code",
      "metadata": {
        "id": "27BUDGgTmThq",
        "colab_type": "code",
        "colab": {
          "base_uri": "https://localhost:8080/",
          "height": 140
        },
        "outputId": "90bc43b8-75d5-442b-f0b5-abfc7ca2b8e0"
      },
      "source": [
        "# Random 3 order tensor\n",
        "\n",
        "torch.rand(2,3,4)"
      ],
      "execution_count": 7,
      "outputs": [
        {
          "output_type": "execute_result",
          "data": {
            "text/plain": [
              "tensor([[[0.3523, 0.9218, 0.1918, 0.9380],\n",
              "         [0.8410, 0.5980, 0.6830, 0.5706],\n",
              "         [0.3154, 0.1423, 0.7740, 0.7576]],\n",
              "\n",
              "        [[0.4849, 0.8963, 0.5533, 0.4669],\n",
              "         [0.9545, 0.2502, 0.9523, 0.2727],\n",
              "         [0.5511, 0.9631, 0.8850, 0.3691]]])"
            ]
          },
          "metadata": {
            "tags": []
          },
          "execution_count": 7
        }
      ]
    },
    {
      "cell_type": "code",
      "metadata": {
        "id": "ek3DEL_OmhE4",
        "colab_type": "code",
        "colab": {
          "base_uri": "https://localhost:8080/",
          "height": 457
        },
        "outputId": "374a7e47-d807-4bdd-9bc7-492044694c81"
      },
      "source": [
        "torch.rand(3,2,3,2)"
      ],
      "execution_count": 8,
      "outputs": [
        {
          "output_type": "execute_result",
          "data": {
            "text/plain": [
              "tensor([[[[0.9167, 0.5336],\n",
              "          [0.8654, 0.5296],\n",
              "          [0.3798, 0.6306]],\n",
              "\n",
              "         [[0.8270, 0.3907],\n",
              "          [0.2438, 0.3745],\n",
              "          [0.1670, 0.0022]]],\n",
              "\n",
              "\n",
              "        [[[0.6252, 0.6777],\n",
              "          [0.9375, 0.7269],\n",
              "          [0.2901, 0.9617]],\n",
              "\n",
              "         [[0.2618, 0.3880],\n",
              "          [0.8785, 0.4648],\n",
              "          [0.5538, 0.8861]]],\n",
              "\n",
              "\n",
              "        [[[0.1382, 0.4022],\n",
              "          [0.3193, 0.4735],\n",
              "          [0.0756, 0.1121]],\n",
              "\n",
              "         [[0.7718, 0.6694],\n",
              "          [0.3097, 0.9497],\n",
              "          [0.9585, 0.1762]]]])"
            ]
          },
          "metadata": {
            "tags": []
          },
          "execution_count": 8
        }
      ]
    },
    {
      "cell_type": "markdown",
      "metadata": {
        "id": "aqzNcSRPu305",
        "colab_type": "text"
      },
      "source": [
        "REF : https://pytorch.org/docs/stable/torch.html#creation-ops"
      ]
    },
    {
      "cell_type": "markdown",
      "metadata": {
        "id": "TQyPmE5au_wH",
        "colab_type": "text"
      },
      "source": [
        "##Question 1:\n",
        "How many dimensions are there in a tensor defined as below?"
      ]
    },
    {
      "cell_type": "code",
      "metadata": {
        "id": "gAeJeDkTwcdz",
        "colab_type": "code",
        "colab": {
          "base_uri": "https://localhost:8080/",
          "height": 34
        },
        "outputId": "3b483546-d7bd-40dc-c784-b6131557a6fb"
      },
      "source": [
        "torch.rand(1, 1, 1, 1)"
      ],
      "execution_count": 9,
      "outputs": [
        {
          "output_type": "execute_result",
          "data": {
            "text/plain": [
              "tensor([[[[0.5069]]]])"
            ]
          },
          "metadata": {
            "tags": []
          },
          "execution_count": 9
        }
      ]
    },
    {
      "cell_type": "markdown",
      "metadata": {
        "id": "QR4ubO2ww4iE",
        "colab_type": "text"
      },
      "source": [
        "### Ans 1 - 4 Dimension\n"
      ]
    },
    {
      "cell_type": "code",
      "metadata": {
        "id": "eJMIOy55vAv1",
        "colab_type": "code",
        "colab": {
          "base_uri": "https://localhost:8080/",
          "height": 545
        },
        "outputId": "20b3e770-db75-454e-cfc0-a4f86842e5bb"
      },
      "source": [
        "torch.rand(2, 3, 4, 5)"
      ],
      "execution_count": 10,
      "outputs": [
        {
          "output_type": "execute_result",
          "data": {
            "text/plain": [
              "tensor([[[[0.6790, 0.6155, 0.0981, 0.6873, 0.6075],\n",
              "          [0.9692, 0.1978, 0.8722, 0.7857, 0.2266],\n",
              "          [0.7262, 0.8703, 0.6577, 0.2178, 0.0262],\n",
              "          [0.4358, 0.2246, 0.0825, 0.4315, 0.8975]],\n",
              "\n",
              "         [[0.4174, 0.4959, 0.5369, 0.6815, 0.9321],\n",
              "          [0.8480, 0.2337, 0.0811, 0.1394, 0.3500],\n",
              "          [0.6354, 0.0675, 0.0869, 0.9355, 0.4289],\n",
              "          [0.8710, 0.7926, 0.3503, 0.4054, 0.1716]],\n",
              "\n",
              "         [[0.8333, 0.8216, 0.5195, 0.4585, 0.5875],\n",
              "          [0.1361, 0.5966, 0.0881, 0.2313, 0.3563],\n",
              "          [0.7905, 0.0583, 0.3094, 0.8118, 0.9451],\n",
              "          [0.2166, 0.0765, 0.0724, 0.8326, 0.4128]]],\n",
              "\n",
              "\n",
              "        [[[0.2597, 0.2206, 0.1479, 0.0730, 0.7287],\n",
              "          [0.4958, 0.4799, 0.2800, 0.9723, 0.1521],\n",
              "          [0.4741, 0.2123, 0.5629, 0.1068, 0.0213],\n",
              "          [0.9222, 0.9997, 0.8870, 0.7693, 0.7045]],\n",
              "\n",
              "         [[0.8382, 0.3851, 0.8841, 0.3335, 0.6569],\n",
              "          [0.8154, 0.3600, 0.6941, 0.2791, 0.1100],\n",
              "          [0.9824, 0.9391, 0.7681, 0.0353, 0.6592],\n",
              "          [0.8214, 0.1423, 0.3260, 0.1034, 0.1160]],\n",
              "\n",
              "         [[0.5758, 0.3371, 0.9159, 0.0115, 0.5165],\n",
              "          [0.1615, 0.5622, 0.1357, 0.2422, 0.5002],\n",
              "          [0.5474, 0.6344, 0.5390, 0.0809, 0.1446],\n",
              "          [0.3867, 0.9589, 0.1248, 0.8194, 0.5566]]]])"
            ]
          },
          "metadata": {
            "tags": []
          },
          "execution_count": 10
        }
      ]
    },
    {
      "cell_type": "code",
      "metadata": {
        "id": "x4xUxMlvvxrV",
        "colab_type": "code",
        "colab": {
          "base_uri": "https://localhost:8080/",
          "height": 34
        },
        "outputId": "b2da8047-681e-4153-9cea-8fc62ed9f2fa"
      },
      "source": [
        "torch.rand(2, 3, 4, 5).size()"
      ],
      "execution_count": 11,
      "outputs": [
        {
          "output_type": "execute_result",
          "data": {
            "text/plain": [
              "torch.Size([2, 3, 4, 5])"
            ]
          },
          "metadata": {
            "tags": []
          },
          "execution_count": 11
        }
      ]
    },
    {
      "cell_type": "code",
      "metadata": {
        "id": "maB53Qygvzbp",
        "colab_type": "code",
        "colab": {
          "base_uri": "https://localhost:8080/",
          "height": 34
        },
        "outputId": "33105bf0-2200-4f8b-ca9b-75847a2f783a"
      },
      "source": [
        "torch.rand(2, 3, 4, 5).shape"
      ],
      "execution_count": 12,
      "outputs": [
        {
          "output_type": "execute_result",
          "data": {
            "text/plain": [
              "torch.Size([2, 3, 4, 5])"
            ]
          },
          "metadata": {
            "tags": []
          },
          "execution_count": 12
        }
      ]
    },
    {
      "cell_type": "code",
      "metadata": {
        "id": "HSJbpNqHYQKs",
        "colab_type": "code",
        "colab": {
          "base_uri": "https://localhost:8080/",
          "height": 34
        },
        "outputId": "ab6526f4-53c6-46f1-ff1a-9082773603ec"
      },
      "source": [
        "torch.rand(1, 1, 1, 1).size()"
      ],
      "execution_count": 13,
      "outputs": [
        {
          "output_type": "execute_result",
          "data": {
            "text/plain": [
              "torch.Size([1, 1, 1, 1])"
            ]
          },
          "metadata": {
            "tags": []
          },
          "execution_count": 13
        }
      ]
    },
    {
      "cell_type": "markdown",
      "metadata": {
        "id": "l1k7YpPtZGwA",
        "colab_type": "text"
      },
      "source": [
        "## Python / NumPy / Pytorch interoperability\n",
        "You can create tensors from python as well as numpy arrays. You can also convert torch tensors to numpy arrays. So, the interoperability between torch and numpy is pretty good."
      ]
    },
    {
      "cell_type": "code",
      "metadata": {
        "id": "rHnRTu5jZGWv",
        "colab_type": "code",
        "colab": {
          "base_uri": "https://localhost:8080/",
          "height": 122
        },
        "outputId": "7cf55499-df5c-4157-cf44-93a728f412bb"
      },
      "source": [
        "# Simple Python List\n",
        "python_list = [1, 2]\n",
        "\n",
        "# Create a numpy array from python list\n",
        "numpy_array = np.array(python_list)\n",
        "\n",
        "# Create a torch Tensor from python list\n",
        "tensor_from_list = torch.tensor(python_list)\n",
        "\n",
        "# Create a torch Tensor from Numpy array\n",
        "tensor_from_array = torch.tensor(numpy_array)                                   ### No Memory copy\n",
        "\n",
        "# Another way to create a torch Tensor from Numpy array (share same storage)\n",
        "tensor_from_array_v2 = torch.from_numpy(numpy_array)                            ### Memory Copy\n",
        "\n",
        "# Convert torch tensor to numpy array\n",
        "array_from_tensor = tensor_from_array.numpy()\n",
        "\n",
        "print('List:   ', python_list)\n",
        "print('Array:  ', numpy_array)\n",
        "print('Tensor: ', tensor_from_list)\n",
        "print('Tensor: ', tensor_from_array)\n",
        "print('Tensor: ', tensor_from_array_v2)\n",
        "print('Array:  ', array_from_tensor)"
      ],
      "execution_count": 14,
      "outputs": [
        {
          "output_type": "stream",
          "text": [
            "List:    [1, 2]\n",
            "Array:   [1 2]\n",
            "Tensor:  tensor([1, 2])\n",
            "Tensor:  tensor([1, 2])\n",
            "Tensor:  tensor([1, 2])\n",
            "Array:   [1 2]\n"
          ],
          "name": "stdout"
        }
      ]
    },
    {
      "cell_type": "markdown",
      "metadata": {
        "id": "WLiZRhgVerle",
        "colab_type": "text"
      },
      "source": [
        "Difference between `torch.Tensor` and `torch.from_numpy`\n",
        "\n",
        "Pytorch aims to be an effective library for computations. What does it mean? It means that pytorch avoids memory copying if it can."
      ]
    },
    {
      "cell_type": "code",
      "metadata": {
        "id": "vZKLjojBewpc",
        "colab_type": "code",
        "colab": {
          "base_uri": "https://localhost:8080/",
          "height": 70
        },
        "outputId": "47390748-9448-49ed-d69f-2e88eec6250e"
      },
      "source": [
        "numpy_array[0] = 10\n",
        "\n",
        "print('Array:  ', numpy_array)\n",
        "print('Tensor: ', tensor_from_array)\n",
        "print('Tensor: ', tensor_from_array_v2)"
      ],
      "execution_count": 15,
      "outputs": [
        {
          "output_type": "stream",
          "text": [
            "Array:   [10  2]\n",
            "Tensor:  tensor([1, 2])\n",
            "Tensor:  tensor([10,  2])\n"
          ],
          "name": "stdout"
        }
      ]
    },
    {
      "cell_type": "markdown",
      "metadata": {
        "id": "Ry-qvVXpfQtc",
        "colab_type": "text"
      },
      "source": [
        "## Question 2:\n",
        "\n",
        "Assume that we moved our complete (cats vs dogs) image dataset to numpy arrays. Then we use torch.from_numpy to convert these images to tensor. Then we apply a specific data augmentation strategy called \"CutOut\" which blocks a portion of the image directly on these tensors. What will happen to the accuracy of a model trained on this strategy compared to the one without this strategy? CutOut strategy is shown below:\n",
        "\n",
        "![alt text](https://)\n",
        "\n",
        "CutOut"
      ]
    },
    {
      "cell_type": "code",
      "metadata": {
        "id": "YCDgjV3-gJgh",
        "colab_type": "code",
        "colab": {
          "base_uri": "https://localhost:8080/",
          "height": 52
        },
        "outputId": "1b592d73-8566-4dd5-91ed-0cb6919d56ea"
      },
      "source": [
        "print(tensor_from_array_v2)\n",
        "tensor_from_array_v2[0]=tensor_from_array_v2[0]+1 ## Assume this is cut out\n",
        "tensor_from_array_v2"
      ],
      "execution_count": 16,
      "outputs": [
        {
          "output_type": "stream",
          "text": [
            "tensor([10,  2])\n"
          ],
          "name": "stdout"
        },
        {
          "output_type": "execute_result",
          "data": {
            "text/plain": [
              "tensor([11,  2])"
            ]
          },
          "metadata": {
            "tags": []
          },
          "execution_count": 16
        }
      ]
    },
    {
      "cell_type": "markdown",
      "metadata": {
        "id": "x0kmwQhCgkbU",
        "colab_type": "text"
      },
      "source": [
        "### Ans 2 : The accuracy will reduce"
      ]
    },
    {
      "cell_type": "markdown",
      "metadata": {
        "id": "LcMcYGoBjSg5",
        "colab_type": "text"
      },
      "source": [
        "##Question 3:\n",
        "\n",
        "Why do you think we are observing this behavior?\n",
        "\n",
        "We have two different ways to create tensor from its NumPy counterpart - one copies memory and another one shares the same underlying storage. It works in the opposite way:"
      ]
    },
    {
      "cell_type": "code",
      "metadata": {
        "id": "UcT43TT9jVvu",
        "colab_type": "code",
        "colab": {
          "base_uri": "https://localhost:8080/",
          "height": 87
        },
        "outputId": "480c8021-2611-4215-f6cc-8869ea9193e2"
      },
      "source": [
        "array_from_tensor = tensor_from_array.numpy()\n",
        "print('Tensor: ', tensor_from_array)\n",
        "print('Array: ', array_from_tensor)\n",
        "\n",
        "tensor_from_array[0] = 11\n",
        "print('Tensor: ', tensor_from_array)\n",
        "print('Array: ', array_from_tensor)"
      ],
      "execution_count": 17,
      "outputs": [
        {
          "output_type": "stream",
          "text": [
            "Tensor:  tensor([1, 2])\n",
            "Array:  [1 2]\n",
            "Tensor:  tensor([11,  2])\n",
            "Array:  [11  2]\n"
          ],
          "name": "stdout"
        }
      ]
    },
    {
      "cell_type": "markdown",
      "metadata": {
        "id": "qxz3g7--kGVr",
        "colab_type": "text"
      },
      "source": [
        "## Data types\n",
        "\n",
        "The basic data type of all Deep Learning-related operations is float, but sometimes you may need something else. Pytorch support different number types for its tensors the same way NumPy does it - by specifying the data type on tensor creation or via casting. Ths full list of supported data types can be found here.\n",
        "\n",
        "https://pytorch.org/docs/stable/tensors.html"
      ]
    },
    {
      "cell_type": "code",
      "metadata": {
        "id": "0-7p6sCvruEa",
        "colab_type": "code",
        "colab": {
          "base_uri": "https://localhost:8080/",
          "height": 158
        },
        "outputId": "f28f8d6d-d903-48fd-ecdf-46dee74c8880"
      },
      "source": [
        "tensor = torch.zeros(2, 2)\n",
        "print('Tensor with default type: ', tensor)\n",
        "tensor = torch.zeros(2, 2, dtype=torch.float16)\n",
        "print('Tensor with 16-bit float: ', tensor)\n",
        "tensor = torch.zeros(2, 2, dtype=torch.int16)\n",
        "print('Tensor with integers: ', tensor)\n",
        "tensor = torch.zeros(2, 2, dtype=torch.bool)\n",
        "print('Tensor with boolean data: ', tensor)"
      ],
      "execution_count": 18,
      "outputs": [
        {
          "output_type": "stream",
          "text": [
            "Tensor with default type:  tensor([[0., 0.],\n",
            "        [0., 0.]])\n",
            "Tensor with 16-bit float:  tensor([[0., 0.],\n",
            "        [0., 0.]], dtype=torch.float16)\n",
            "Tensor with integers:  tensor([[0, 0],\n",
            "        [0, 0]], dtype=torch.int16)\n",
            "Tensor with boolean data:  tensor([[False, False],\n",
            "        [False, False]])\n"
          ],
          "name": "stdout"
        }
      ]
    },
    {
      "cell_type": "markdown",
      "metadata": {
        "id": "o5FETpG3treT",
        "colab_type": "text"
      },
      "source": [
        "## Question 4:\n",
        "We saw above that some times numpy and tensors share same storage and changing one changes the other. If we define a rank-2-tensor with ones (dtype of f16), and then convert it into a numpy data type using tensor.numpy() and store it in a variable called \"num\", and then we perform this operation num = num * 0.5, will the original tensor have 1.0s or 0.5s as its element values?"
      ]
    },
    {
      "cell_type": "code",
      "metadata": {
        "id": "0MDjOxj4tvfu",
        "colab_type": "code",
        "colab": {
          "base_uri": "https://localhost:8080/",
          "height": 122
        },
        "outputId": "dfc00359-7d25-4732-bb29-acb387dc4483"
      },
      "source": [
        "tensor = torch.ones(2,2, dtype = torch.float16)\n",
        "num = tensor.numpy()\n",
        "print(num)\n",
        "num = num*0.5\n",
        "print(num)\n",
        "print(tensor)"
      ],
      "execution_count": 19,
      "outputs": [
        {
          "output_type": "stream",
          "text": [
            "[[1. 1.]\n",
            " [1. 1.]]\n",
            "[[0.5 0.5]\n",
            " [0.5 0.5]]\n",
            "tensor([[1., 1.],\n",
            "        [1., 1.]], dtype=torch.float16)\n"
          ],
          "name": "stdout"
        }
      ]
    },
    {
      "cell_type": "markdown",
      "metadata": {
        "id": "yDXuYJfoulQN",
        "colab_type": "text"
      },
      "source": [
        "### Ans 4 : The original tensor will have 1.0 as values"
      ]
    },
    {
      "cell_type": "markdown",
      "metadata": {
        "id": "8CpqB_oqvUX2",
        "colab_type": "text"
      },
      "source": [
        "## Question 5:\n",
        "If the operation `num = num*5` is changed to `num[:] = num*5` will the original tensor have 1.0s or 0.5s as its element values?"
      ]
    },
    {
      "cell_type": "code",
      "metadata": {
        "id": "3Q3cfkAgv3yB",
        "colab_type": "code",
        "colab": {
          "base_uri": "https://localhost:8080/",
          "height": 87
        },
        "outputId": "72ea92a2-fd8e-4c32-88c7-b30f1ee50a7c"
      },
      "source": [
        "tensor = torch.ones(2,2, dtype = torch.float16)\n",
        "num = tensor.numpy()\n",
        "print(num)\n",
        "num[:]=num*0.5\n",
        "num"
      ],
      "execution_count": 20,
      "outputs": [
        {
          "output_type": "stream",
          "text": [
            "[[1. 1.]\n",
            " [1. 1.]]\n"
          ],
          "name": "stdout"
        },
        {
          "output_type": "execute_result",
          "data": {
            "text/plain": [
              "array([[0.5, 0.5],\n",
              "       [0.5, 0.5]], dtype=float16)"
            ]
          },
          "metadata": {
            "tags": []
          },
          "execution_count": 20
        }
      ]
    },
    {
      "cell_type": "markdown",
      "metadata": {
        "id": "flyyqmOQwu9A",
        "colab_type": "text"
      },
      "source": [
        "#### Ans 5 : The tensor will have 0.5 as values\n"
      ]
    },
    {
      "cell_type": "markdown",
      "metadata": {
        "id": "FlDedSzxw-d8",
        "colab_type": "text"
      },
      "source": [
        "# Indexing\n",
        "\n",
        "Tensor provides access to its elements via the same `[]` operation as a regular python list or NumPy array. However, as you may recall from NumPy usage, the full power of math libraries is accessible only via vectorized operations, i.e. operations without explicit looping over all vector elements in python and using implicit optimized loops in C/C++/CUDA/Fortran/etc. available via special function calls. Pytorch employs the same paradigm and provides a wide range of vectorized operations. Let's take a look at some examples.\n",
        "\n",
        "Joining a list of tensors together with `torch.cat`"
      ]
    },
    {
      "cell_type": "code",
      "metadata": {
        "id": "xu2nqaRgxazo",
        "colab_type": "code",
        "colab": {
          "base_uri": "https://localhost:8080/",
          "height": 122
        },
        "outputId": "2bc34291-0cc1-44bd-87c7-cec497f57f89"
      },
      "source": [
        "a = torch.zeros(3, 2)\n",
        "b = torch.ones(3, 2)\n",
        "print(torch.cat((a, b), dim=0))   #Join row wise - Axis 0"
      ],
      "execution_count": 21,
      "outputs": [
        {
          "output_type": "stream",
          "text": [
            "tensor([[0., 0.],\n",
            "        [0., 0.],\n",
            "        [0., 0.],\n",
            "        [1., 1.],\n",
            "        [1., 1.],\n",
            "        [1., 1.]])\n"
          ],
          "name": "stdout"
        }
      ]
    },
    {
      "cell_type": "code",
      "metadata": {
        "id": "iaGjDJDwxc3M",
        "colab_type": "code",
        "colab": {
          "base_uri": "https://localhost:8080/",
          "height": 70
        },
        "outputId": "795c413f-d04b-494d-f4ba-36a28363a72c"
      },
      "source": [
        "a = torch.zeros(3, 2)\n",
        "b = torch.ones(3, 2)\n",
        "print(torch.cat((a, b), dim=1))   #Join column wise - Axis = 1"
      ],
      "execution_count": 22,
      "outputs": [
        {
          "output_type": "stream",
          "text": [
            "tensor([[0., 0., 1., 1.],\n",
            "        [0., 0., 1., 1.],\n",
            "        [0., 0., 1., 1.]])\n"
          ],
          "name": "stdout"
        }
      ]
    },
    {
      "cell_type": "markdown",
      "metadata": {
        "id": "164s0_71xzh1",
        "colab_type": "text"
      },
      "source": [
        "## Question 6:\n",
        "\n",
        "Is the transpose of concatenated a & b tensor on dimension 1, same as the contatenated tensor of a & b on dimension 0?"
      ]
    },
    {
      "cell_type": "code",
      "metadata": {
        "id": "ULXHmj37yNEG",
        "colab_type": "code",
        "colab": {
          "base_uri": "https://localhost:8080/",
          "height": 87
        },
        "outputId": "13072982-f739-4505-abe2-9a3f9c5e1eed"
      },
      "source": [
        "a = torch.zeros(3, 2)\n",
        "b = torch.ones(3, 2)\n",
        "\n",
        "print(torch.flatten(torch.t(torch.cat((a, b), dim=0))))\n",
        "print(torch.flatten(torch.t(torch.cat((a, b), dim=1))))\n",
        "\n",
        "torch.flatten(torch.t(torch.cat((a, b), dim=0)))==torch.flatten(torch.t(torch.cat((a, b), dim=1)))\n"
      ],
      "execution_count": 23,
      "outputs": [
        {
          "output_type": "stream",
          "text": [
            "tensor([0., 0., 0., 1., 1., 1., 0., 0., 0., 1., 1., 1.])\n",
            "tensor([0., 0., 0., 0., 0., 0., 1., 1., 1., 1., 1., 1.])\n"
          ],
          "name": "stdout"
        },
        {
          "output_type": "execute_result",
          "data": {
            "text/plain": [
              "tensor([ True,  True,  True, False, False, False, False, False, False,  True,\n",
              "         True,  True])"
            ]
          },
          "metadata": {
            "tags": []
          },
          "execution_count": 23
        }
      ]
    },
    {
      "cell_type": "markdown",
      "metadata": {
        "id": "CakaPSukz-81",
        "colab_type": "text"
      },
      "source": [
        "#### Ans 6 : Not the same"
      ]
    },
    {
      "cell_type": "markdown",
      "metadata": {
        "id": "_Y3EsNp81Jcg",
        "colab_type": "text"
      },
      "source": [
        "#### Indexing with another tensor/array:"
      ]
    },
    {
      "cell_type": "code",
      "metadata": {
        "id": "wjqeD1c41OE0",
        "colab_type": "code",
        "colab": {
          "base_uri": "https://localhost:8080/",
          "height": 140
        },
        "outputId": "05a4558b-1df8-4f03-dfe4-4f12b9c0ef14"
      },
      "source": [
        "a = torch.arange(start=0, end=10)\n",
        "indices = np.arange(0, 10) > 5\n",
        "print(a)\n",
        "\n",
        "print(\"---------------------\")\n",
        "print(indices)\n",
        "print(a[indices])\n",
        "\n",
        "indices = torch.arange(start=0, end=10) %5\n",
        "print(\"---------------------\")\n",
        "print(indices)\n",
        "print(a[indices])"
      ],
      "execution_count": 24,
      "outputs": [
        {
          "output_type": "stream",
          "text": [
            "tensor([0, 1, 2, 3, 4, 5, 6, 7, 8, 9])\n",
            "---------------------\n",
            "[False False False False False False  True  True  True  True]\n",
            "tensor([6, 7, 8, 9])\n",
            "---------------------\n",
            "tensor([0, 1, 2, 3, 4, 0, 1, 2, 3, 4])\n",
            "tensor([0, 1, 2, 3, 4, 0, 1, 2, 3, 4])\n"
          ],
          "name": "stdout"
        }
      ]
    },
    {
      "cell_type": "markdown",
      "metadata": {
        "id": "MBeWxxr024jG",
        "colab_type": "text"
      },
      "source": [
        "## Question 7:\n",
        "\n",
        "`a` is defined as `torch.arange(start=0, end=10)`. We will create` b` using the two operations as below. In both cases do we get the same value?\n",
        "\n",
        " \n",
        "\n",
        "1.   Indices variable created by the modulo operation on arange between 0 and 10. Then a new varialble `b` is created from `a` using the last 5 elements of indices.\n",
        "2.   Indices variable created by the modulo operation on arange betwenn 1 and 11. Then a new varialble `b` is created from `a` using the last 5 elements of indices."
      ]
    },
    {
      "cell_type": "code",
      "metadata": {
        "id": "8fgT_Ol53U9z",
        "colab_type": "code",
        "colab": {
          "base_uri": "https://localhost:8080/",
          "height": 70
        },
        "outputId": "25df4e2e-1bde-42ee-86e1-a9b88206af5d"
      },
      "source": [
        "a = torch.arange(start=0,end=10)\n",
        "print(a)\n",
        "\n",
        "indices = torch.arange(start=0, end=10) % 5\n",
        "print(indices)\n",
        "\n",
        "b = a[-5:]\n",
        "print(b)"
      ],
      "execution_count": 26,
      "outputs": [
        {
          "output_type": "stream",
          "text": [
            "tensor([0, 1, 2, 3, 4, 5, 6, 7, 8, 9])\n",
            "tensor([0, 1, 2, 3, 4, 0, 1, 2, 3, 4])\n",
            "tensor([5, 6, 7, 8, 9])\n"
          ],
          "name": "stdout"
        }
      ]
    },
    {
      "cell_type": "code",
      "metadata": {
        "id": "MbgyBs5CGzhp",
        "colab_type": "code",
        "colab": {
          "base_uri": "https://localhost:8080/",
          "height": 70
        },
        "outputId": "865dfb04-7d94-4f06-85be-53fdbcf11803"
      },
      "source": [
        "a = torch.arange(start=1,end=11)\n",
        "print(a)\n",
        "\n",
        "indices = torch.arange(start=0, end=10) % 5\n",
        "print(indices)\n",
        "\n",
        "b = a[-5:]\n",
        "print(b)"
      ],
      "execution_count": 27,
      "outputs": [
        {
          "output_type": "stream",
          "text": [
            "tensor([ 1,  2,  3,  4,  5,  6,  7,  8,  9, 10])\n",
            "tensor([0, 1, 2, 3, 4, 0, 1, 2, 3, 4])\n",
            "tensor([ 6,  7,  8,  9, 10])\n"
          ],
          "name": "stdout"
        }
      ]
    },
    {
      "cell_type": "markdown",
      "metadata": {
        "id": "8zzOtdzfGzSU",
        "colab_type": "text"
      },
      "source": [
        "### Ans 7 : Both of them are not same"
      ]
    },
    {
      "cell_type": "markdown",
      "metadata": {
        "id": "9XNy1330K-Kp",
        "colab_type": "text"
      },
      "source": [
        "##### What should we do if we have, say, rank-2-tensor and want to select only some rows?"
      ]
    },
    {
      "cell_type": "code",
      "metadata": {
        "id": "wzGZMaCnLBoi",
        "colab_type": "code",
        "colab": {
          "base_uri": "https://localhost:8080/",
          "height": 228
        },
        "outputId": "c19a3f51-2027-49f2-80ac-1203bcf71e4d"
      },
      "source": [
        "# Create a list of tensor to select the specific rows\n",
        "\n",
        "tensor = torch.rand((5, 3))\n",
        "rows = torch.tensor([0, 2])\n",
        "rows = torch.tensor([0, 2,3,3,4])\n",
        "\n",
        "print(tensor)\n",
        "print('-------------')\n",
        "print(rows)\n",
        "tensor[rows]"
      ],
      "execution_count": 36,
      "outputs": [
        {
          "output_type": "stream",
          "text": [
            "tensor([[0.2284, 0.3343, 0.4620],\n",
            "        [0.8049, 0.4012, 0.6728],\n",
            "        [0.7397, 0.6555, 0.0157],\n",
            "        [0.9685, 0.5289, 0.1113],\n",
            "        [0.9099, 0.3716, 0.7550]])\n",
            "-------------\n",
            "tensor([0, 2, 3, 3, 4])\n"
          ],
          "name": "stdout"
        },
        {
          "output_type": "execute_result",
          "data": {
            "text/plain": [
              "tensor([[0.2284, 0.3343, 0.4620],\n",
              "        [0.7397, 0.6555, 0.0157],\n",
              "        [0.9685, 0.5289, 0.1113],\n",
              "        [0.9685, 0.5289, 0.1113],\n",
              "        [0.9099, 0.3716, 0.7550]])"
            ]
          },
          "metadata": {
            "tags": []
          },
          "execution_count": 36
        }
      ]
    },
    {
      "cell_type": "markdown",
      "metadata": {
        "id": "EaOhKYJiOeIa",
        "colab_type": "text"
      },
      "source": [
        "## Question 8:\n",
        "Consider a tensor defined as `torch.rand((6, 5))`. Is the shape of the new tensor created by taking the 0th, 2nd and 4th row of the old tensor same as the shape of the a newer tensor created by taking the 0th, 2nd and 4th row of the old tensor after transposing it by operation `torch.transpose(tensor, 0, 1)` ?"
      ]
    },
    {
      "cell_type": "code",
      "metadata": {
        "id": "nuMPu-rzOyPY",
        "colab_type": "code",
        "colab": {
          "base_uri": "https://localhost:8080/",
          "height": 369
        },
        "outputId": "3bb0c317-f04a-4a2f-9c30-db470163be23"
      },
      "source": [
        "tensor = torch.rand((6,5))\n",
        "print(tensor)\n",
        "rows = torch.tensor([0,2,4])\n",
        "print(\"###########\")\n",
        "print(tensor[rows])\n",
        "print(\"------------------------\")\n",
        "tensor2 = torch.transpose(tensor,0,1)\n",
        "print(tensor2)\n",
        "rows = torch.tensor([0,2,4])\n",
        "print(\"###########\")\n",
        "print(tensor2[rows])"
      ],
      "execution_count": 42,
      "outputs": [
        {
          "output_type": "stream",
          "text": [
            "tensor([[0.1445, 0.4261, 0.5070, 0.9529, 0.5919],\n",
            "        [0.6191, 0.8271, 0.0301, 0.6545, 0.6822],\n",
            "        [0.8177, 0.3696, 0.2572, 0.6758, 0.6130],\n",
            "        [0.8839, 0.3676, 0.8463, 0.7124, 0.7989],\n",
            "        [0.0373, 0.5876, 0.3284, 0.2814, 0.7659],\n",
            "        [0.0040, 0.0492, 0.6825, 0.6807, 0.3362]])\n",
            "###########\n",
            "tensor([[0.1445, 0.4261, 0.5070, 0.9529, 0.5919],\n",
            "        [0.8177, 0.3696, 0.2572, 0.6758, 0.6130],\n",
            "        [0.0373, 0.5876, 0.3284, 0.2814, 0.7659]])\n",
            "------------------------\n",
            "tensor([[0.1445, 0.6191, 0.8177, 0.8839, 0.0373, 0.0040],\n",
            "        [0.4261, 0.8271, 0.3696, 0.3676, 0.5876, 0.0492],\n",
            "        [0.5070, 0.0301, 0.2572, 0.8463, 0.3284, 0.6825],\n",
            "        [0.9529, 0.6545, 0.6758, 0.7124, 0.2814, 0.6807],\n",
            "        [0.5919, 0.6822, 0.6130, 0.7989, 0.7659, 0.3362]])\n",
            "###########\n",
            "tensor([[0.1445, 0.6191, 0.8177, 0.8839, 0.0373, 0.0040],\n",
            "        [0.5070, 0.0301, 0.2572, 0.8463, 0.3284, 0.6825],\n",
            "        [0.5919, 0.6822, 0.6130, 0.7989, 0.7659, 0.3362]])\n"
          ],
          "name": "stdout"
        }
      ]
    },
    {
      "cell_type": "markdown",
      "metadata": {
        "id": "-gXROISzPqik",
        "colab_type": "text"
      },
      "source": [
        "#### Ans 8 : Both are not same"
      ]
    },
    {
      "cell_type": "markdown",
      "metadata": {
        "id": "jKTXYenwStTc",
        "colab_type": "text"
      },
      "source": [
        "## Tensor Shapes\n",
        "Reshaping a tensor is a frequently used operation. We can change the shape of a tensor without the memory copying overhead. There are two methods for that: `reshape` and `view`.\n",
        "\n",
        "The difference is the following:\n",
        "\n",
        "view tries to return a tensor, and it shares the same memory with the original tensor. In case, if it cannot reuse the same memory due to some reason, it just fails.\n",
        "reshape always returns the tensor with the desired shape and tries to reuse the memory. If it cannot, it creates a copy\n",
        "Let's see with the help of an example:\n",
        "\n",
        "https://pytorch.org/docs/stable/tensors.html?highlight=view#torch.Tensor.view"
      ]
    }
  ]
}