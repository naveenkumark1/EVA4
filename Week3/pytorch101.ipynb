{
  "nbformat": 4,
  "nbformat_minor": 0,
  "metadata": {
    "colab": {
      "name": "Untitled6.ipynb",
      "provenance": [],
      "collapsed_sections": [],
      "authorship_tag": "ABX9TyOY36PbG4CR3Clk3SlL3oCv",
      "include_colab_link": true
    },
    "kernelspec": {
      "name": "python3",
      "display_name": "Python 3"
    },
    "accelerator": "GPU"
  },
  "cells": [
    {
      "cell_type": "markdown",
      "metadata": {
        "id": "view-in-github",
        "colab_type": "text"
      },
      "source": [
        "<a href=\"https://colab.research.google.com/github/naveenkumark1/Extensive_Vision_and_AI_V.4/blob/master/Week3/pytorch101.ipynb\" target=\"_parent\"><img src=\"https://colab.research.google.com/assets/colab-badge.svg\" alt=\"Open In Colab\"/></a>"
      ]
    },
    {
      "cell_type": "code",
      "metadata": {
        "id": "HUSeLXLSdYjr",
        "colab_type": "code",
        "colab": {}
      },
      "source": [
        "## Pytorch 101\n",
        "# Pytorch is a machine leanring frame work that helps to build models for research prototyping and also for deployment"
      ],
      "execution_count": 0,
      "outputs": []
    },
    {
      "cell_type": "markdown",
      "metadata": {
        "id": "Dc62HnBGefwh",
        "colab_type": "text"
      },
      "source": [
        "## Pytorch - Dataframes\n",
        "#### In pytorch we have a data frame called Tensor - It is the generalisation of matrix and arrays to a higher dimension.\n",
        "\n",
        "#### Tensor is an entity with defined order or rank \n",
        "\n",
        "#### Scalar - 0 order tensor\n",
        "#### Vector - 1 order tensor \n",
        "#### Matrix - 2 order tensor\n",
        "#### Array  - 3 order tensor\n"
      ]
    },
    {
      "cell_type": "code",
      "metadata": {
        "id": "5LMyE9nbgxLS",
        "colab_type": "code",
        "colab": {}
      },
      "source": [
        "## Tensor Basics \n",
        "## Import Libraries \n",
        "\n",
        "import numpy as np\n",
        "import torch"
      ],
      "execution_count": 0,
      "outputs": []
    },
    {
      "cell_type": "code",
      "metadata": {
        "id": "Elt_E5UklqAF",
        "colab_type": "code",
        "colab": {
          "base_uri": "https://localhost:8080/",
          "height": 34
        },
        "outputId": "31e08f77-cbb0-44d5-d1ce-f7c3b5b48e4c"
      },
      "source": [
        "torch.zeros(0)  ## 0 order with zeros "
      ],
      "execution_count": 4,
      "outputs": [
        {
          "output_type": "execute_result",
          "data": {
            "text/plain": [
              "tensor([])"
            ]
          },
          "metadata": {
            "tags": []
          },
          "execution_count": 4
        }
      ]
    },
    {
      "cell_type": "code",
      "metadata": {
        "id": "3a64nhLtl8NX",
        "colab_type": "code",
        "colab": {
          "base_uri": "https://localhost:8080/",
          "height": 34
        },
        "outputId": "a7157709-de30-4459-af11-34c168140ee7"
      },
      "source": [
        "torch.zeros(1,2)  ## 1 Order "
      ],
      "execution_count": 5,
      "outputs": [
        {
          "output_type": "execute_result",
          "data": {
            "text/plain": [
              "tensor([[0., 0.]])"
            ]
          },
          "metadata": {
            "tags": []
          },
          "execution_count": 5
        }
      ]
    },
    {
      "cell_type": "code",
      "metadata": {
        "id": "DPtkrHtMmHhv",
        "colab_type": "code",
        "colab": {
          "base_uri": "https://localhost:8080/",
          "height": 52
        },
        "outputId": "63c99639-5821-402a-d94c-59a8d22b0dbb"
      },
      "source": [
        "torch.zeros(2,2) ## 2 order "
      ],
      "execution_count": 6,
      "outputs": [
        {
          "output_type": "execute_result",
          "data": {
            "text/plain": [
              "tensor([[0., 0.],\n",
              "        [0., 0.]])"
            ]
          },
          "metadata": {
            "tags": []
          },
          "execution_count": 6
        }
      ]
    },
    {
      "cell_type": "code",
      "metadata": {
        "id": "27BUDGgTmThq",
        "colab_type": "code",
        "colab": {
          "base_uri": "https://localhost:8080/",
          "height": 140
        },
        "outputId": "b414a732-67be-40c9-ae11-8c2f046bbf11"
      },
      "source": [
        "# Random 3 order tensor\n",
        "\n",
        "torch.rand(2,3,4)"
      ],
      "execution_count": 7,
      "outputs": [
        {
          "output_type": "execute_result",
          "data": {
            "text/plain": [
              "tensor([[[5.1747e-01, 3.8119e-01, 9.1824e-01, 2.9161e-01],\n",
              "         [3.0879e-01, 3.5885e-01, 2.9051e-01, 5.0097e-02],\n",
              "         [8.8725e-01, 7.1227e-02, 8.9462e-01, 1.0522e-01]],\n",
              "\n",
              "        [[5.4011e-01, 4.2657e-01, 5.3725e-01, 8.4096e-01],\n",
              "         [5.1014e-01, 7.8562e-01, 5.0419e-01, 1.1361e-04],\n",
              "         [8.4473e-01, 9.0161e-01, 5.3624e-01, 3.8827e-01]]])"
            ]
          },
          "metadata": {
            "tags": []
          },
          "execution_count": 7
        }
      ]
    },
    {
      "cell_type": "code",
      "metadata": {
        "id": "ek3DEL_OmhE4",
        "colab_type": "code",
        "colab": {
          "base_uri": "https://localhost:8080/",
          "height": 457
        },
        "outputId": "7b404d5a-444c-4824-8501-8d825284b03c"
      },
      "source": [
        "torch.rand(3,2,3,2)"
      ],
      "execution_count": 8,
      "outputs": [
        {
          "output_type": "execute_result",
          "data": {
            "text/plain": [
              "tensor([[[[0.3329, 0.6823],\n",
              "          [0.8505, 0.5298],\n",
              "          [0.0430, 0.5504]],\n",
              "\n",
              "         [[0.7280, 0.8134],\n",
              "          [0.3617, 0.2745],\n",
              "          [0.6623, 0.9576]]],\n",
              "\n",
              "\n",
              "        [[[0.5340, 0.3053],\n",
              "          [0.0903, 0.5735],\n",
              "          [0.7356, 0.1254]],\n",
              "\n",
              "         [[0.9907, 0.8542],\n",
              "          [0.2431, 0.4949],\n",
              "          [0.4123, 0.8297]]],\n",
              "\n",
              "\n",
              "        [[[0.9010, 0.3507],\n",
              "          [0.4128, 0.4900],\n",
              "          [0.3095, 0.6328]],\n",
              "\n",
              "         [[0.3734, 0.8731],\n",
              "          [0.6129, 0.1969],\n",
              "          [0.5830, 0.2215]]]])"
            ]
          },
          "metadata": {
            "tags": []
          },
          "execution_count": 8
        }
      ]
    },
    {
      "cell_type": "markdown",
      "metadata": {
        "id": "aqzNcSRPu305",
        "colab_type": "text"
      },
      "source": [
        "REF : https://pytorch.org/docs/stable/torch.html#creation-ops"
      ]
    },
    {
      "cell_type": "markdown",
      "metadata": {
        "id": "TQyPmE5au_wH",
        "colab_type": "text"
      },
      "source": [
        "##Question 1:\n",
        "How many dimensions are there in a tensor defined as below?"
      ]
    },
    {
      "cell_type": "code",
      "metadata": {
        "id": "gAeJeDkTwcdz",
        "colab_type": "code",
        "colab": {
          "base_uri": "https://localhost:8080/",
          "height": 34
        },
        "outputId": "6356218b-e50b-436c-e241-548c85713a42"
      },
      "source": [
        "torch.rand(1, 1, 1, 1)"
      ],
      "execution_count": 9,
      "outputs": [
        {
          "output_type": "execute_result",
          "data": {
            "text/plain": [
              "tensor([[[[0.5681]]]])"
            ]
          },
          "metadata": {
            "tags": []
          },
          "execution_count": 9
        }
      ]
    },
    {
      "cell_type": "markdown",
      "metadata": {
        "id": "QR4ubO2ww4iE",
        "colab_type": "text"
      },
      "source": [
        "### Ans 1 - 4 Dimension\n"
      ]
    },
    {
      "cell_type": "code",
      "metadata": {
        "id": "eJMIOy55vAv1",
        "colab_type": "code",
        "colab": {
          "base_uri": "https://localhost:8080/",
          "height": 545
        },
        "outputId": "337e6086-d805-459b-83ba-b17a504c63ba"
      },
      "source": [
        "torch.rand(2, 3, 4, 5)"
      ],
      "execution_count": 10,
      "outputs": [
        {
          "output_type": "execute_result",
          "data": {
            "text/plain": [
              "tensor([[[[0.8988, 0.8254, 0.2248, 0.6427, 0.2062],\n",
              "          [0.4059, 0.7559, 0.1212, 0.3148, 0.4641],\n",
              "          [0.0692, 0.2155, 0.8910, 0.7598, 0.3732],\n",
              "          [0.6988, 0.2084, 0.9874, 0.3057, 0.9983]],\n",
              "\n",
              "         [[0.9636, 0.3938, 0.5632, 0.9684, 0.0454],\n",
              "          [0.0275, 0.7597, 0.0257, 0.6508, 0.9281],\n",
              "          [0.6886, 0.0682, 0.8323, 0.8814, 0.7049],\n",
              "          [0.1988, 0.4720, 0.0332, 0.1034, 0.4783]],\n",
              "\n",
              "         [[0.5820, 0.8307, 0.7019, 0.5571, 0.5905],\n",
              "          [0.8872, 0.1790, 0.1469, 0.6072, 0.9733],\n",
              "          [0.7963, 0.5078, 0.7143, 0.6350, 0.8547],\n",
              "          [0.8057, 0.7422, 0.1796, 0.5326, 0.5460]]],\n",
              "\n",
              "\n",
              "        [[[0.1426, 0.4169, 0.0196, 0.4327, 0.8311],\n",
              "          [0.8168, 0.6927, 0.8773, 0.2329, 0.1345],\n",
              "          [0.0197, 0.1042, 0.6335, 0.9451, 0.0474],\n",
              "          [0.9180, 0.9935, 0.8586, 0.8179, 0.6700]],\n",
              "\n",
              "         [[0.4951, 0.4734, 0.9143, 0.7710, 0.8103],\n",
              "          [0.1582, 0.6538, 0.2081, 0.8410, 0.8956],\n",
              "          [0.7828, 0.4672, 0.7121, 0.0020, 0.8540],\n",
              "          [0.1113, 0.5333, 0.4999, 0.4396, 0.1676]],\n",
              "\n",
              "         [[0.6419, 0.7148, 0.8634, 0.5097, 0.7007],\n",
              "          [0.9889, 0.4119, 0.7291, 0.2214, 0.8962],\n",
              "          [0.5086, 0.9226, 0.3835, 0.5119, 0.0664],\n",
              "          [0.5022, 0.1380, 0.9927, 0.7999, 0.5174]]]])"
            ]
          },
          "metadata": {
            "tags": []
          },
          "execution_count": 10
        }
      ]
    },
    {
      "cell_type": "code",
      "metadata": {
        "id": "x4xUxMlvvxrV",
        "colab_type": "code",
        "colab": {
          "base_uri": "https://localhost:8080/",
          "height": 34
        },
        "outputId": "23711efa-690c-42b8-80db-fe8515eec3ee"
      },
      "source": [
        "torch.rand(2, 3, 4, 5).size()"
      ],
      "execution_count": 11,
      "outputs": [
        {
          "output_type": "execute_result",
          "data": {
            "text/plain": [
              "torch.Size([2, 3, 4, 5])"
            ]
          },
          "metadata": {
            "tags": []
          },
          "execution_count": 11
        }
      ]
    },
    {
      "cell_type": "code",
      "metadata": {
        "id": "maB53Qygvzbp",
        "colab_type": "code",
        "colab": {
          "base_uri": "https://localhost:8080/",
          "height": 34
        },
        "outputId": "a46d7079-6a11-40e6-f33d-42313750fcb6"
      },
      "source": [
        "torch.rand(2, 3, 4, 5).shape"
      ],
      "execution_count": 12,
      "outputs": [
        {
          "output_type": "execute_result",
          "data": {
            "text/plain": [
              "torch.Size([2, 3, 4, 5])"
            ]
          },
          "metadata": {
            "tags": []
          },
          "execution_count": 12
        }
      ]
    },
    {
      "cell_type": "code",
      "metadata": {
        "id": "HSJbpNqHYQKs",
        "colab_type": "code",
        "colab": {
          "base_uri": "https://localhost:8080/",
          "height": 34
        },
        "outputId": "5440ea24-157b-4aab-f55d-86e505cb15d7"
      },
      "source": [
        "torch.rand(1, 1, 1, 1).size()"
      ],
      "execution_count": 13,
      "outputs": [
        {
          "output_type": "execute_result",
          "data": {
            "text/plain": [
              "torch.Size([1, 1, 1, 1])"
            ]
          },
          "metadata": {
            "tags": []
          },
          "execution_count": 13
        }
      ]
    },
    {
      "cell_type": "markdown",
      "metadata": {
        "id": "l1k7YpPtZGwA",
        "colab_type": "text"
      },
      "source": [
        "## Python / NumPy / Pytorch interoperability\n",
        "You can create tensors from python as well as numpy arrays. You can also convert torch tensors to numpy arrays. So, the interoperability between torch and numpy is pretty good."
      ]
    },
    {
      "cell_type": "code",
      "metadata": {
        "id": "rHnRTu5jZGWv",
        "colab_type": "code",
        "colab": {
          "base_uri": "https://localhost:8080/",
          "height": 122
        },
        "outputId": "7ac968dd-5650-43f9-8243-b6aaf655b0d7"
      },
      "source": [
        "# Simple Python List\n",
        "python_list = [1, 2]\n",
        "\n",
        "# Create a numpy array from python list\n",
        "numpy_array = np.array(python_list)\n",
        "\n",
        "# Create a torch Tensor from python list\n",
        "tensor_from_list = torch.tensor(python_list)\n",
        "\n",
        "# Create a torch Tensor from Numpy array\n",
        "tensor_from_array = torch.tensor(numpy_array)                                   ### No Memory copy\n",
        "\n",
        "# Another way to create a torch Tensor from Numpy array (share same storage)\n",
        "tensor_from_array_v2 = torch.from_numpy(numpy_array)                            ### Memory Copy\n",
        "\n",
        "# Convert torch tensor to numpy array\n",
        "array_from_tensor = tensor_from_array.numpy()\n",
        "\n",
        "print('List:   ', python_list)\n",
        "print('Array:  ', numpy_array)\n",
        "print('Tensor: ', tensor_from_list)\n",
        "print('Tensor: ', tensor_from_array)\n",
        "print('Tensor: ', tensor_from_array_v2)\n",
        "print('Array:  ', array_from_tensor)"
      ],
      "execution_count": 14,
      "outputs": [
        {
          "output_type": "stream",
          "text": [
            "List:    [1, 2]\n",
            "Array:   [1 2]\n",
            "Tensor:  tensor([1, 2])\n",
            "Tensor:  tensor([1, 2])\n",
            "Tensor:  tensor([1, 2])\n",
            "Array:   [1 2]\n"
          ],
          "name": "stdout"
        }
      ]
    },
    {
      "cell_type": "markdown",
      "metadata": {
        "id": "WLiZRhgVerle",
        "colab_type": "text"
      },
      "source": [
        "Difference between `torch.Tensor` and `torch.from_numpy`\n",
        "\n",
        "Pytorch aims to be an effective library for computations. What does it mean? It means that pytorch avoids memory copying if it can."
      ]
    },
    {
      "cell_type": "code",
      "metadata": {
        "id": "vZKLjojBewpc",
        "colab_type": "code",
        "colab": {
          "base_uri": "https://localhost:8080/",
          "height": 70
        },
        "outputId": "197db49a-9716-4685-a992-e12bd3bc5b93"
      },
      "source": [
        "numpy_array[0] = 10\n",
        "\n",
        "print('Array:  ', numpy_array)\n",
        "print('Tensor: ', tensor_from_array)\n",
        "print('Tensor: ', tensor_from_array_v2)"
      ],
      "execution_count": 15,
      "outputs": [
        {
          "output_type": "stream",
          "text": [
            "Array:   [10  2]\n",
            "Tensor:  tensor([1, 2])\n",
            "Tensor:  tensor([10,  2])\n"
          ],
          "name": "stdout"
        }
      ]
    },
    {
      "cell_type": "markdown",
      "metadata": {
        "id": "Ry-qvVXpfQtc",
        "colab_type": "text"
      },
      "source": [
        "## Question 2:\n",
        "\n",
        "Assume that we moved our complete (cats vs dogs) image dataset to numpy arrays. Then we use torch.from_numpy to convert these images to tensor. Then we apply a specific data augmentation strategy called \"CutOut\" which blocks a portion of the image directly on these tensors. What will happen to the accuracy of a model trained on this strategy compared to the one without this strategy? CutOut strategy is shown below:\n",
        "\n",
        "![alt text](https://)\n",
        "\n",
        "CutOut"
      ]
    },
    {
      "cell_type": "code",
      "metadata": {
        "id": "YCDgjV3-gJgh",
        "colab_type": "code",
        "colab": {
          "base_uri": "https://localhost:8080/",
          "height": 52
        },
        "outputId": "35c163bc-ef37-4b6b-d3d0-8d5aaa89ae19"
      },
      "source": [
        "print(tensor_from_array_v2)\n",
        "tensor_from_array_v2[0]=tensor_from_array_v2[0]+1 ## Assume this is cut out\n",
        "tensor_from_array_v2"
      ],
      "execution_count": 16,
      "outputs": [
        {
          "output_type": "stream",
          "text": [
            "tensor([10,  2])\n"
          ],
          "name": "stdout"
        },
        {
          "output_type": "execute_result",
          "data": {
            "text/plain": [
              "tensor([11,  2])"
            ]
          },
          "metadata": {
            "tags": []
          },
          "execution_count": 16
        }
      ]
    },
    {
      "cell_type": "markdown",
      "metadata": {
        "id": "x0kmwQhCgkbU",
        "colab_type": "text"
      },
      "source": [
        "### Ans 2 : The accuracy of the model will increase"
      ]
    },
    {
      "cell_type": "markdown",
      "metadata": {
        "id": "LcMcYGoBjSg5",
        "colab_type": "text"
      },
      "source": [
        "##Question 3:\n",
        "\n",
        "Why do you think we are observing this behavior?\n",
        "\n",
        "## Ans 3 - We observe this behaviour becuase it forces the network to learn more different features apart from the main features\n",
        "\n",
        "We have two different ways to create tensor from its NumPy counterpart - one copies memory and another one shares the same underlying storage. It works in the opposite way:"
      ]
    },
    {
      "cell_type": "code",
      "metadata": {
        "id": "UcT43TT9jVvu",
        "colab_type": "code",
        "colab": {
          "base_uri": "https://localhost:8080/",
          "height": 87
        },
        "outputId": "514dfb63-00e4-400c-aa94-a344368e8eb4"
      },
      "source": [
        "array_from_tensor = tensor_from_array.numpy()\n",
        "print('Tensor: ', tensor_from_array)\n",
        "print('Array: ', array_from_tensor)\n",
        "\n",
        "tensor_from_array[0] = 11\n",
        "print('Tensor: ', tensor_from_array)\n",
        "print('Array: ', array_from_tensor)"
      ],
      "execution_count": 17,
      "outputs": [
        {
          "output_type": "stream",
          "text": [
            "Tensor:  tensor([1, 2])\n",
            "Array:  [1 2]\n",
            "Tensor:  tensor([11,  2])\n",
            "Array:  [11  2]\n"
          ],
          "name": "stdout"
        }
      ]
    },
    {
      "cell_type": "markdown",
      "metadata": {
        "id": "qxz3g7--kGVr",
        "colab_type": "text"
      },
      "source": [
        "## Data types\n",
        "\n",
        "The basic data type of all Deep Learning-related operations is float, but sometimes you may need something else. Pytorch support different number types for its tensors the same way NumPy does it - by specifying the data type on tensor creation or via casting. Ths full list of supported data types can be found here.\n",
        "\n",
        "https://pytorch.org/docs/stable/tensors.html"
      ]
    },
    {
      "cell_type": "code",
      "metadata": {
        "id": "0-7p6sCvruEa",
        "colab_type": "code",
        "colab": {
          "base_uri": "https://localhost:8080/",
          "height": 158
        },
        "outputId": "86b2e63e-6530-4124-dc36-ecffc823941a"
      },
      "source": [
        "tensor = torch.zeros(2, 2)\n",
        "print('Tensor with default type: ', tensor)\n",
        "tensor = torch.zeros(2, 2, dtype=torch.float16)\n",
        "print('Tensor with 16-bit float: ', tensor)\n",
        "tensor = torch.zeros(2, 2, dtype=torch.int16)\n",
        "print('Tensor with integers: ', tensor)\n",
        "tensor = torch.zeros(2, 2, dtype=torch.bool)\n",
        "print('Tensor with boolean data: ', tensor)"
      ],
      "execution_count": 18,
      "outputs": [
        {
          "output_type": "stream",
          "text": [
            "Tensor with default type:  tensor([[0., 0.],\n",
            "        [0., 0.]])\n",
            "Tensor with 16-bit float:  tensor([[0., 0.],\n",
            "        [0., 0.]], dtype=torch.float16)\n",
            "Tensor with integers:  tensor([[0, 0],\n",
            "        [0, 0]], dtype=torch.int16)\n",
            "Tensor with boolean data:  tensor([[False, False],\n",
            "        [False, False]])\n"
          ],
          "name": "stdout"
        }
      ]
    },
    {
      "cell_type": "markdown",
      "metadata": {
        "id": "o5FETpG3treT",
        "colab_type": "text"
      },
      "source": [
        "## Question 4:\n",
        "We saw above that some times numpy and tensors share same storage and changing one changes the other. If we define a rank-2-tensor with ones (dtype of f16), and then convert it into a numpy data type using tensor.numpy() and store it in a variable called \"num\", and then we perform this operation num = num * 0.5, will the original tensor have 1.0s or 0.5s as its element values?"
      ]
    },
    {
      "cell_type": "code",
      "metadata": {
        "id": "0MDjOxj4tvfu",
        "colab_type": "code",
        "colab": {
          "base_uri": "https://localhost:8080/",
          "height": 122
        },
        "outputId": "d69455e8-0b91-4a04-fac3-5166caf57c74"
      },
      "source": [
        "tensor = torch.ones(2,2, dtype = torch.float16)\n",
        "num = tensor.numpy()\n",
        "print(num)\n",
        "num = num*0.5\n",
        "print(num)\n",
        "print(tensor)"
      ],
      "execution_count": 19,
      "outputs": [
        {
          "output_type": "stream",
          "text": [
            "[[1. 1.]\n",
            " [1. 1.]]\n",
            "[[0.5 0.5]\n",
            " [0.5 0.5]]\n",
            "tensor([[1., 1.],\n",
            "        [1., 1.]], dtype=torch.float16)\n"
          ],
          "name": "stdout"
        }
      ]
    },
    {
      "cell_type": "markdown",
      "metadata": {
        "id": "yDXuYJfoulQN",
        "colab_type": "text"
      },
      "source": [
        "### Ans 4 : The original tensor will have 1.0 as values"
      ]
    },
    {
      "cell_type": "markdown",
      "metadata": {
        "id": "8CpqB_oqvUX2",
        "colab_type": "text"
      },
      "source": [
        "## Question 5:\n",
        "If the operation `num = num*5` is changed to `num[:] = num*5` will the original tensor have 1.0s or 0.5s as its element values?"
      ]
    },
    {
      "cell_type": "code",
      "metadata": {
        "id": "3Q3cfkAgv3yB",
        "colab_type": "code",
        "colab": {
          "base_uri": "https://localhost:8080/",
          "height": 87
        },
        "outputId": "2b293db9-dac2-4155-c009-d3c7676fea80"
      },
      "source": [
        "tensor = torch.ones(2,2, dtype = torch.float16)\n",
        "num = tensor.numpy()\n",
        "print(num)\n",
        "num[:]=num*0.5\n",
        "num"
      ],
      "execution_count": 20,
      "outputs": [
        {
          "output_type": "stream",
          "text": [
            "[[1. 1.]\n",
            " [1. 1.]]\n"
          ],
          "name": "stdout"
        },
        {
          "output_type": "execute_result",
          "data": {
            "text/plain": [
              "array([[0.5, 0.5],\n",
              "       [0.5, 0.5]], dtype=float16)"
            ]
          },
          "metadata": {
            "tags": []
          },
          "execution_count": 20
        }
      ]
    },
    {
      "cell_type": "markdown",
      "metadata": {
        "id": "flyyqmOQwu9A",
        "colab_type": "text"
      },
      "source": [
        "#### Ans 5 : The tensor will have 0.5 as values\n"
      ]
    },
    {
      "cell_type": "markdown",
      "metadata": {
        "id": "FlDedSzxw-d8",
        "colab_type": "text"
      },
      "source": [
        "# Indexing\n",
        "\n",
        "Tensor provides access to its elements via the same `[]` operation as a regular python list or NumPy array. However, as you may recall from NumPy usage, the full power of math libraries is accessible only via vectorized operations, i.e. operations without explicit looping over all vector elements in python and using implicit optimized loops in C/C++/CUDA/Fortran/etc. available via special function calls. Pytorch employs the same paradigm and provides a wide range of vectorized operations. Let's take a look at some examples.\n",
        "\n",
        "Joining a list of tensors together with `torch.cat`"
      ]
    },
    {
      "cell_type": "code",
      "metadata": {
        "id": "xu2nqaRgxazo",
        "colab_type": "code",
        "colab": {
          "base_uri": "https://localhost:8080/",
          "height": 122
        },
        "outputId": "7b4542ac-70b7-4e69-e1a6-6765cc27684f"
      },
      "source": [
        "a = torch.zeros(3, 2)\n",
        "b = torch.ones(3, 2)\n",
        "print(torch.cat((a, b), dim=0))   #Join row wise - Axis 0"
      ],
      "execution_count": 21,
      "outputs": [
        {
          "output_type": "stream",
          "text": [
            "tensor([[0., 0.],\n",
            "        [0., 0.],\n",
            "        [0., 0.],\n",
            "        [1., 1.],\n",
            "        [1., 1.],\n",
            "        [1., 1.]])\n"
          ],
          "name": "stdout"
        }
      ]
    },
    {
      "cell_type": "code",
      "metadata": {
        "id": "iaGjDJDwxc3M",
        "colab_type": "code",
        "colab": {
          "base_uri": "https://localhost:8080/",
          "height": 70
        },
        "outputId": "35ac8007-9243-4d24-b3b1-d81f388ece00"
      },
      "source": [
        "a = torch.zeros(3, 2)\n",
        "b = torch.ones(3, 2)\n",
        "print(torch.cat((a, b), dim=1))   #Join column wise - Axis = 1"
      ],
      "execution_count": 22,
      "outputs": [
        {
          "output_type": "stream",
          "text": [
            "tensor([[0., 0., 1., 1.],\n",
            "        [0., 0., 1., 1.],\n",
            "        [0., 0., 1., 1.]])\n"
          ],
          "name": "stdout"
        }
      ]
    },
    {
      "cell_type": "markdown",
      "metadata": {
        "id": "164s0_71xzh1",
        "colab_type": "text"
      },
      "source": [
        "## Question 6:\n",
        "\n",
        "Is the transpose of concatenated a & b tensor on dimension 1, same as the contatenated tensor of a & b on dimension 0?"
      ]
    },
    {
      "cell_type": "code",
      "metadata": {
        "id": "ULXHmj37yNEG",
        "colab_type": "code",
        "colab": {
          "base_uri": "https://localhost:8080/",
          "height": 87
        },
        "outputId": "2dddd6ea-151a-45e3-ca47-96265434400b"
      },
      "source": [
        "a = torch.zeros(3, 2)\n",
        "b = torch.ones(3, 2)\n",
        "\n",
        "print(torch.flatten(torch.t(torch.cat((a, b), dim=0))))\n",
        "print(torch.flatten(torch.t(torch.cat((a, b), dim=1))))\n",
        "\n",
        "torch.flatten(torch.t(torch.cat((a, b), dim=0)))==torch.flatten(torch.t(torch.cat((a, b), dim=1)))\n"
      ],
      "execution_count": 23,
      "outputs": [
        {
          "output_type": "stream",
          "text": [
            "tensor([0., 0., 0., 1., 1., 1., 0., 0., 0., 1., 1., 1.])\n",
            "tensor([0., 0., 0., 0., 0., 0., 1., 1., 1., 1., 1., 1.])\n"
          ],
          "name": "stdout"
        },
        {
          "output_type": "execute_result",
          "data": {
            "text/plain": [
              "tensor([ True,  True,  True, False, False, False, False, False, False,  True,\n",
              "         True,  True])"
            ]
          },
          "metadata": {
            "tags": []
          },
          "execution_count": 23
        }
      ]
    },
    {
      "cell_type": "markdown",
      "metadata": {
        "id": "CakaPSukz-81",
        "colab_type": "text"
      },
      "source": [
        "#### Ans 6 : Not the same"
      ]
    },
    {
      "cell_type": "markdown",
      "metadata": {
        "id": "_Y3EsNp81Jcg",
        "colab_type": "text"
      },
      "source": [
        "#### Indexing with another tensor/array:"
      ]
    },
    {
      "cell_type": "code",
      "metadata": {
        "id": "wjqeD1c41OE0",
        "colab_type": "code",
        "colab": {
          "base_uri": "https://localhost:8080/",
          "height": 140
        },
        "outputId": "9079f956-1477-4e82-fffd-1fd21082fc74"
      },
      "source": [
        "a = torch.arange(start=0, end=10)\n",
        "indices = np.arange(0, 10) > 5\n",
        "print(a)\n",
        "\n",
        "print(\"---------------------\")\n",
        "print(indices)\n",
        "print(a[indices])\n",
        "\n",
        "indices = torch.arange(start=0, end=10) %5\n",
        "print(\"---------------------\")\n",
        "print(indices)\n",
        "print(a[indices])"
      ],
      "execution_count": 24,
      "outputs": [
        {
          "output_type": "stream",
          "text": [
            "tensor([0, 1, 2, 3, 4, 5, 6, 7, 8, 9])\n",
            "---------------------\n",
            "[False False False False False False  True  True  True  True]\n",
            "tensor([6, 7, 8, 9])\n",
            "---------------------\n",
            "tensor([0, 1, 2, 3, 4, 0, 1, 2, 3, 4])\n",
            "tensor([0, 1, 2, 3, 4, 0, 1, 2, 3, 4])\n"
          ],
          "name": "stdout"
        }
      ]
    },
    {
      "cell_type": "markdown",
      "metadata": {
        "id": "MBeWxxr024jG",
        "colab_type": "text"
      },
      "source": [
        "## Question 7:\n",
        "\n",
        "`a` is defined as `torch.arange(start=0, end=10)`. We will create` b` using the two operations as below. In both cases do we get the same value?\n",
        "\n",
        " \n",
        "\n",
        "1.   Indices variable created by the modulo operation on arange between 0 and 10. Then a new varialble `b` is created from `a` using the last 5 elements of indices.\n",
        "2.   Indices variable created by the modulo operation on arange betwenn 1 and 11. Then a new varialble `b` is created from `a` using the last 5 elements of indices."
      ]
    },
    {
      "cell_type": "code",
      "metadata": {
        "id": "8fgT_Ol53U9z",
        "colab_type": "code",
        "colab": {
          "base_uri": "https://localhost:8080/",
          "height": 70
        },
        "outputId": "8ce26b16-73a9-49c9-b61c-1e1e6527ed16"
      },
      "source": [
        "a = torch.arange(start=0,end=10)\n",
        "print(a)\n",
        "\n",
        "indices = torch.arange(start=0, end=10) % 5\n",
        "print(indices)\n",
        "\n",
        "b = a[-5:]\n",
        "print(b)"
      ],
      "execution_count": 25,
      "outputs": [
        {
          "output_type": "stream",
          "text": [
            "tensor([0, 1, 2, 3, 4, 5, 6, 7, 8, 9])\n",
            "tensor([0, 1, 2, 3, 4, 0, 1, 2, 3, 4])\n",
            "tensor([5, 6, 7, 8, 9])\n"
          ],
          "name": "stdout"
        }
      ]
    },
    {
      "cell_type": "code",
      "metadata": {
        "id": "MbgyBs5CGzhp",
        "colab_type": "code",
        "colab": {
          "base_uri": "https://localhost:8080/",
          "height": 70
        },
        "outputId": "87328ad9-58a0-47a3-86e5-a8a2d82eaf58"
      },
      "source": [
        "a = torch.arange(start=1,end=11)\n",
        "print(a)\n",
        "\n",
        "indices = torch.arange(start=0, end=10) % 5\n",
        "print(indices)\n",
        "\n",
        "b = a[-5:]\n",
        "print(b)"
      ],
      "execution_count": 26,
      "outputs": [
        {
          "output_type": "stream",
          "text": [
            "tensor([ 1,  2,  3,  4,  5,  6,  7,  8,  9, 10])\n",
            "tensor([0, 1, 2, 3, 4, 0, 1, 2, 3, 4])\n",
            "tensor([ 6,  7,  8,  9, 10])\n"
          ],
          "name": "stdout"
        }
      ]
    },
    {
      "cell_type": "markdown",
      "metadata": {
        "id": "8zzOtdzfGzSU",
        "colab_type": "text"
      },
      "source": [
        "### Ans 7 : Both of them are not same"
      ]
    },
    {
      "cell_type": "markdown",
      "metadata": {
        "id": "9XNy1330K-Kp",
        "colab_type": "text"
      },
      "source": [
        "##### What should we do if we have, say, rank-2-tensor and want to select only some rows?"
      ]
    },
    {
      "cell_type": "code",
      "metadata": {
        "id": "wzGZMaCnLBoi",
        "colab_type": "code",
        "colab": {
          "base_uri": "https://localhost:8080/",
          "height": 228
        },
        "outputId": "4e3e2572-a0fb-4a40-e2a6-3ae774dc1672"
      },
      "source": [
        "# Create a list of tensor to select the specific rows\n",
        "\n",
        "tensor = torch.rand((5, 3))\n",
        "rows = torch.tensor([0, 2])\n",
        "rows = torch.tensor([0, 2,3,3,4])\n",
        "\n",
        "print(tensor)\n",
        "print('-------------')\n",
        "print(rows)\n",
        "tensor[rows]"
      ],
      "execution_count": 27,
      "outputs": [
        {
          "output_type": "stream",
          "text": [
            "tensor([[0.0600, 0.2451, 0.6089],\n",
            "        [0.5406, 0.7976, 0.4211],\n",
            "        [0.1488, 0.5291, 0.3735],\n",
            "        [0.4991, 0.1234, 0.9218],\n",
            "        [0.5078, 0.0851, 0.2413]])\n",
            "-------------\n",
            "tensor([0, 2, 3, 3, 4])\n"
          ],
          "name": "stdout"
        },
        {
          "output_type": "execute_result",
          "data": {
            "text/plain": [
              "tensor([[0.0600, 0.2451, 0.6089],\n",
              "        [0.1488, 0.5291, 0.3735],\n",
              "        [0.4991, 0.1234, 0.9218],\n",
              "        [0.4991, 0.1234, 0.9218],\n",
              "        [0.5078, 0.0851, 0.2413]])"
            ]
          },
          "metadata": {
            "tags": []
          },
          "execution_count": 27
        }
      ]
    },
    {
      "cell_type": "markdown",
      "metadata": {
        "id": "EaOhKYJiOeIa",
        "colab_type": "text"
      },
      "source": [
        "## Question 8:\n",
        "Consider a tensor defined as `torch.rand((6, 5))`. Is the shape of the new tensor created by taking the 0th, 2nd and 4th row of the old tensor same as the shape of the a newer tensor created by taking the 0th, 2nd and 4th row of the old tensor after transposing it by operation `torch.transpose(tensor, 0, 1)` ?"
      ]
    },
    {
      "cell_type": "code",
      "metadata": {
        "id": "nuMPu-rzOyPY",
        "colab_type": "code",
        "colab": {
          "base_uri": "https://localhost:8080/",
          "height": 369
        },
        "outputId": "a4bc51ad-c02e-436c-b28e-da8aad767ea8"
      },
      "source": [
        "tensor = torch.rand((6,5))\n",
        "print(tensor)\n",
        "rows = torch.tensor([0,2,4])\n",
        "print(\"###########\")\n",
        "print(tensor[rows])\n",
        "print(\"------------------------\")\n",
        "tensor2 = torch.transpose(tensor,0,1)\n",
        "print(tensor2)\n",
        "rows = torch.tensor([0,2,4])\n",
        "print(\"###########\")\n",
        "print(tensor2[rows])"
      ],
      "execution_count": 28,
      "outputs": [
        {
          "output_type": "stream",
          "text": [
            "tensor([[0.8751, 0.8542, 0.6037, 0.5003, 0.4416],\n",
            "        [0.7580, 0.7917, 0.0294, 0.4086, 0.5214],\n",
            "        [0.4626, 0.6167, 0.2251, 0.9690, 0.2846],\n",
            "        [0.6599, 0.0581, 0.4797, 0.8699, 0.8180],\n",
            "        [0.2493, 0.4307, 0.1250, 0.8221, 0.6001],\n",
            "        [0.7228, 0.8366, 0.3859, 0.0604, 0.5862]])\n",
            "###########\n",
            "tensor([[0.8751, 0.8542, 0.6037, 0.5003, 0.4416],\n",
            "        [0.4626, 0.6167, 0.2251, 0.9690, 0.2846],\n",
            "        [0.2493, 0.4307, 0.1250, 0.8221, 0.6001]])\n",
            "------------------------\n",
            "tensor([[0.8751, 0.7580, 0.4626, 0.6599, 0.2493, 0.7228],\n",
            "        [0.8542, 0.7917, 0.6167, 0.0581, 0.4307, 0.8366],\n",
            "        [0.6037, 0.0294, 0.2251, 0.4797, 0.1250, 0.3859],\n",
            "        [0.5003, 0.4086, 0.9690, 0.8699, 0.8221, 0.0604],\n",
            "        [0.4416, 0.5214, 0.2846, 0.8180, 0.6001, 0.5862]])\n",
            "###########\n",
            "tensor([[0.8751, 0.7580, 0.4626, 0.6599, 0.2493, 0.7228],\n",
            "        [0.6037, 0.0294, 0.2251, 0.4797, 0.1250, 0.3859],\n",
            "        [0.4416, 0.5214, 0.2846, 0.8180, 0.6001, 0.5862]])\n"
          ],
          "name": "stdout"
        }
      ]
    },
    {
      "cell_type": "markdown",
      "metadata": {
        "id": "-gXROISzPqik",
        "colab_type": "text"
      },
      "source": [
        "#### Ans 8 : Both are not same"
      ]
    },
    {
      "cell_type": "markdown",
      "metadata": {
        "id": "jKTXYenwStTc",
        "colab_type": "text"
      },
      "source": [
        "## Tensor Shapes\n",
        "Reshaping a tensor is a frequently used operation. We can change the shape of a tensor without the memory copying overhead. There are two methods for that: `reshape` and `view`.\n",
        "\n",
        "The difference is the following:\n",
        "\n",
        "view tries to return a tensor, and it shares the same memory with the original tensor. In case, if it cannot reuse the same memory due to some reason, it just fails.\n",
        "reshape always returns the tensor with the desired shape and tries to reuse the memory. If it cannot, it creates a copy\n",
        "Let's see with the help of an example:\n",
        "\n",
        "https://pytorch.org/docs/stable/tensors.html?highlight=view#torch.Tensor.view"
      ]
    },
    {
      "cell_type": "code",
      "metadata": {
        "id": "Sj4fwueZXcO2",
        "colab_type": "code",
        "colab": {
          "base_uri": "https://localhost:8080/",
          "height": 439
        },
        "outputId": "5f90a158-2096-4f90-be57-eff932d357f9"
      },
      "source": [
        "tensor = torch.rand(2, 3, 4)\n",
        "print('Pointer to data: ', tensor.data_ptr())\n",
        "print('Shape: ', tensor.shape)\n",
        "print(\"---------------------------------------1\")\n",
        "\n",
        "reshaped = tensor.reshape(24)\n",
        "print(reshaped)\n",
        "print(\"---------------------------------------2\")\n",
        "view = tensor.view(3, 2, 4)\n",
        "print('Reshaped tensor - pointer to data', reshaped.data_ptr())\n",
        "print('Reshaped tensor shape ', reshaped.shape)\n",
        "print(\"---------------------------------------3\")\n",
        "print(view)\n",
        "print('Viewed tensor - pointer to data', view.data_ptr())\n",
        "print('Viewed tensor shape ', view.shape)\n",
        "print(\"---------------------------------------4\")\n",
        "\n",
        "assert tensor.data_ptr() == view.data_ptr()                                ### From here check below\n",
        "\n",
        "assert np.all(np.equal(tensor.numpy().flat, reshaped.numpy().flat))\n",
        "print('Original stride: ', tensor.stride())\n",
        "print('Reshaped stride: ', reshaped.stride())\n",
        "print('Viewed stride: ', view.stride())"
      ],
      "execution_count": 29,
      "outputs": [
        {
          "output_type": "stream",
          "text": [
            "Pointer to data:  100294784\n",
            "Shape:  torch.Size([2, 3, 4])\n",
            "---------------------------------------1\n",
            "tensor([0.0660, 0.4851, 0.9734, 0.9827, 0.6277, 0.3806, 0.6948, 0.5530, 0.1334,\n",
            "        0.5889, 0.4936, 0.9190, 0.9225, 0.5632, 0.5275, 0.2370, 0.7017, 0.8843,\n",
            "        0.5127, 0.6392, 0.6603, 0.7232, 0.3250, 0.2101])\n",
            "---------------------------------------2\n",
            "Reshaped tensor - pointer to data 100294784\n",
            "Reshaped tensor shape  torch.Size([24])\n",
            "---------------------------------------3\n",
            "tensor([[[0.0660, 0.4851, 0.9734, 0.9827],\n",
            "         [0.6277, 0.3806, 0.6948, 0.5530]],\n",
            "\n",
            "        [[0.1334, 0.5889, 0.4936, 0.9190],\n",
            "         [0.9225, 0.5632, 0.5275, 0.2370]],\n",
            "\n",
            "        [[0.7017, 0.8843, 0.5127, 0.6392],\n",
            "         [0.6603, 0.7232, 0.3250, 0.2101]]])\n",
            "Viewed tensor - pointer to data 100294784\n",
            "Viewed tensor shape  torch.Size([3, 2, 4])\n",
            "---------------------------------------4\n",
            "Original stride:  (12, 4, 1)\n",
            "Reshaped stride:  (1,)\n",
            "Viewed stride:  (8, 4, 1)\n"
          ],
          "name": "stdout"
        }
      ]
    },
    {
      "cell_type": "markdown",
      "metadata": {
        "id": "ClaSSdnPrJnQ",
        "colab_type": "text"
      },
      "source": [
        "The basic rule about reshaping the tensor is definitely that you cannot change the total number of elements in it, so the product of all tensor's dimensions should always be the same. It gives us the ability to avoid specifying one dimension when reshaping the tensor - Pytorch can calculate it for us:"
      ]
    },
    {
      "cell_type": "code",
      "metadata": {
        "id": "GZH_X_v0rL7A",
        "colab_type": "code",
        "colab": {
          "base_uri": "https://localhost:8080/",
          "height": 70
        },
        "outputId": "8f8e557e-1d50-4424-a4fa-1b6d02cee56a"
      },
      "source": [
        "print(tensor.reshape(3, 2, 4).shape)\n",
        "print(tensor.reshape(3, 2, -1).shape)\n",
        "print(tensor.reshape(3, -1, 4).shape)"
      ],
      "execution_count": 30,
      "outputs": [
        {
          "output_type": "stream",
          "text": [
            "torch.Size([3, 2, 4])\n",
            "torch.Size([3, 2, 4])\n",
            "torch.Size([3, 2, 4])\n"
          ],
          "name": "stdout"
        }
      ]
    },
    {
      "cell_type": "markdown",
      "metadata": {
        "id": "3jxnFpOErjt0",
        "colab_type": "text"
      },
      "source": [
        "## Question 9:\n",
        "\n",
        "Consider a tensor `a` created with `[1, 2, 3]` and `[1, 2, 3]` of size (2, 3) is reshaped with operation `.reshape(-1, 2)`. Also consider a tensor `b` created with [[2, 1]] and of size (1, 2), later operated with `view(2, -1)` operation.\n",
        "\n",
        "If we do a dot product of a and b (using `torch.mm`) and perform the sum of all the elements (using `torch.sum`) what do we get? (enter int value without any decimal point in the quiz)"
      ]
    },
    {
      "cell_type": "code",
      "metadata": {
        "id": "fjB1hCaUtVRj",
        "colab_type": "code",
        "colab": {
          "base_uri": "https://localhost:8080/",
          "height": 210
        },
        "outputId": "c364e481-cd43-4fd9-a2a7-8f301e6f7faa"
      },
      "source": [
        "a = torch.tensor([[1,2,3],[1,2,3]])\n",
        "print(a)\n",
        "print(\"------------ 1\")\n",
        "print(a.reshape(-1,2))\n",
        "print(\"------------ 2\")\n",
        "b = torch.tensor([[2,1]])\n",
        "print(b.view(2,-1))\n",
        "print(\"------------ 3\")\n",
        "torch.sum(torch.mm(a.reshape(-1,2),b.view(2,-1)))"
      ],
      "execution_count": 31,
      "outputs": [
        {
          "output_type": "stream",
          "text": [
            "tensor([[1, 2, 3],\n",
            "        [1, 2, 3]])\n",
            "------------ 1\n",
            "tensor([[1, 2],\n",
            "        [3, 1],\n",
            "        [2, 3]])\n",
            "------------ 2\n",
            "tensor([[2],\n",
            "        [1]])\n",
            "------------ 3\n"
          ],
          "name": "stdout"
        },
        {
          "output_type": "execute_result",
          "data": {
            "text/plain": [
              "tensor(18)"
            ]
          },
          "metadata": {
            "tags": []
          },
          "execution_count": 31
        }
      ]
    },
    {
      "cell_type": "markdown",
      "metadata": {
        "id": "VUjcUpOYwjd1",
        "colab_type": "text"
      },
      "source": [
        "#### Ans 9 - 18\n"
      ]
    },
    {
      "cell_type": "markdown",
      "metadata": {
        "id": "vDszjzTHwoUX",
        "colab_type": "text"
      },
      "source": [
        "### Alternative ways to view tensors - `expand` or `expand_as`.\n",
        "\n",
        "`expand` - requires the desired shape as an input\n",
        "`expand_as` - uses the shape of another tensor\n",
        "These operations \"repeat\" tensor's values along the specified axes without actually copying the data.\n",
        "\n",
        "### As the documentation says, expand:\n",
        "\n",
        "returns a new view of the self tensor with singleton dimensions expanded to a larger size. Tensor can be also expanded to a larger number of dimensions, and the new ones will be appended at the front. For the new dimensions, the size cannot be set to -1.\n",
        "\n",
        "### Use case:\n",
        "\n",
        "index multi-channel tensor with single-channel mask - imagine a color image with 3 channels (RGB) and binary mask for the area of interest on that image. We cannot index the image with this kind of mask directly since the dimensions are different, but we can use `expand_as` operation to create a view of the mask that has the same dimensions as the image we want to apply it to, but has not copied the data."
      ]
    },
    {
      "cell_type": "code",
      "metadata": {
        "id": "V1Cw0Nzw1n5O",
        "colab_type": "code",
        "colab": {
          "base_uri": "https://localhost:8080/",
          "height": 614
        },
        "outputId": "2b09a216-7f74-42ef-9129-f44a9505eddc"
      },
      "source": [
        "%matplotlib inline\n",
        "from matplotlib import pyplot as plt\n",
        "\n",
        "# Create a black image\n",
        "image = torch.zeros(size=(3, 256, 256), dtype=torch.int)\n",
        "\n",
        "# Leave the borders and make the rest of the image Green\n",
        "image[1, 18:256 - 18, 18:256 - 18] = 255\n",
        "\n",
        "# Create a mask of the same size\n",
        "mask = torch.zeros(size=(256, 256), dtype=torch.bool)\n",
        "\n",
        "# Assuming the green region in the original image is the Region of interest, change the mask to white for that area\n",
        "mask[18:256 - 18, 18:256 - 18] = 1\n",
        "\n",
        "# Create a view of the mask with the same dimensions as the original image\n",
        "mask_expanded = mask.expand_as(image)\n",
        "print(mask_expanded.shape)\n",
        "print(\"-----------------------------------1\")\n",
        "\n",
        "mask_np = mask_expanded.numpy().transpose(1, 2, 0) * 255\n",
        "image_np = image.numpy().transpose(1, 2, 0)\n",
        "\n",
        "fig, ax = plt.subplots(1, 2)\n",
        "ax[0].imshow(image_np)\n",
        "ax[1].imshow(mask_np)\n",
        "plt.show()\n",
        "\n",
        "image[0, mask] += 128\n",
        "fig, ax = plt.subplots(1, 2)\n",
        "ax[0].imshow(image_np)\n",
        "ax[1].imshow(mask_np)\n",
        "plt.show()\n",
        "\n",
        "image[mask_expanded] += 128\n",
        "image.clamp_(0, 255)\n",
        "fig, ax = plt.subplots(1, 2)\n",
        "ax[0].imshow(image_np)\n",
        "ax[1].imshow(mask_np)\n",
        "plt.show()"
      ],
      "execution_count": 32,
      "outputs": [
        {
          "output_type": "stream",
          "text": [
            "torch.Size([3, 256, 256])\n",
            "-----------------------------------1\n"
          ],
          "name": "stdout"
        },
        {
          "output_type": "display_data",
          "data": {
            "image/png": "[encoded data removed]",
            "text/plain": [
              "<Figure size 432x288 with 2 Axes>"
            ]
          },
          "metadata": {
            "tags": []
          }
        },
        {
          "output_type": "display_data",
          "data": {
            "image/png": "[encoded data removed]",
            "text/plain": [
              "<Figure size 432x288 with 2 Axes>"
            ]
          },
          "metadata": {
            "tags": []
          }
        },
        {
          "output_type": "display_data",
          "data": {
            "image/png": "[encoded data removed]",
            "text/plain": [
              "<Figure size 432x288 with 2 Axes>"
            ]
          },
          "metadata": {
            "tags": []
          }
        }
      ]
    }
  ]
}