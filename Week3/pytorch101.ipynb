{
  "nbformat": 4,
  "nbformat_minor": 0,
  "metadata": {
    "colab": {
      "name": "Untitled6.ipynb",
      "provenance": [],
      "authorship_tag": "ABX9TyNOTEj1YeADo+U0D/txhq1O",
      "include_colab_link": true
    },
    "kernelspec": {
      "name": "python3",
      "display_name": "Python 3"
    },
    "accelerator": "GPU"
  },
  "cells": [
    {
      "cell_type": "markdown",
      "metadata": {
        "id": "view-in-github",
        "colab_type": "text"
      },
      "source": [
        "<a href=\"https://colab.research.google.com/github/naveenkumark1/Extensive_Vision_and_AI_V.4/blob/master/Week3/pytorch101.ipynb\" target=\"_parent\"><img src=\"https://colab.research.google.com/assets/colab-badge.svg\" alt=\"Open In Colab\"/></a>"
      ]
    },
    {
      "cell_type": "code",
      "metadata": {
        "id": "HUSeLXLSdYjr",
        "colab_type": "code",
        "colab": {}
      },
      "source": [
        "## Pytorch 101\n",
        "# Pytorch is a machine leanring frame work that helps to build models for research prototyping and also for deployment"
      ],
      "execution_count": 0,
      "outputs": []
    },
    {
      "cell_type": "markdown",
      "metadata": {
        "id": "Dc62HnBGefwh",
        "colab_type": "text"
      },
      "source": [
        "## Pytorch - Dataframes\n",
        "#### In pytorch we have a data frame called Tensor - It is the generalisation of matrix and arrays to a higher dimension.\n",
        "\n",
        "#### Tensor is an entity with defined order or rank \n",
        "\n",
        "#### Scalar - 0 order tensor\n",
        "#### Vector - 1 order tensor \n",
        "#### Matrix - 2 order tensor\n",
        "#### Array  - 3 order tensor\n"
      ]
    },
    {
      "cell_type": "code",
      "metadata": {
        "id": "5LMyE9nbgxLS",
        "colab_type": "code",
        "colab": {}
      },
      "source": [
        "## Tensor Basics \n",
        "## Import Libraries \n",
        "\n",
        "import numpy as np\n",
        "import torch"
      ],
      "execution_count": 0,
      "outputs": []
    },
    {
      "cell_type": "code",
      "metadata": {
        "id": "Elt_E5UklqAF",
        "colab_type": "code",
        "colab": {
          "base_uri": "https://localhost:8080/",
          "height": 34
        },
        "outputId": "0a0f06e0-2bb9-402d-c694-8ec3044da603"
      },
      "source": [
        "torch.zeros(0)  ## 0 order with zeros "
      ],
      "execution_count": 14,
      "outputs": [
        {
          "output_type": "execute_result",
          "data": {
            "text/plain": [
              "tensor([])"
            ]
          },
          "metadata": {
            "tags": []
          },
          "execution_count": 14
        }
      ]
    },
    {
      "cell_type": "code",
      "metadata": {
        "id": "3a64nhLtl8NX",
        "colab_type": "code",
        "colab": {
          "base_uri": "https://localhost:8080/",
          "height": 34
        },
        "outputId": "92ebd4db-3f83-466e-c133-f5c8ac99a996"
      },
      "source": [
        "torch.zeros(1,2)  ## 1 Order "
      ],
      "execution_count": 15,
      "outputs": [
        {
          "output_type": "execute_result",
          "data": {
            "text/plain": [
              "tensor([[0., 0.]])"
            ]
          },
          "metadata": {
            "tags": []
          },
          "execution_count": 15
        }
      ]
    },
    {
      "cell_type": "code",
      "metadata": {
        "id": "DPtkrHtMmHhv",
        "colab_type": "code",
        "colab": {
          "base_uri": "https://localhost:8080/",
          "height": 52
        },
        "outputId": "ffbec6c9-37e6-448f-9506-12f9aab2074e"
      },
      "source": [
        "torch.zeros(2,2) ## 2 order "
      ],
      "execution_count": 17,
      "outputs": [
        {
          "output_type": "execute_result",
          "data": {
            "text/plain": [
              "tensor([[0., 0.],\n",
              "        [0., 0.]])"
            ]
          },
          "metadata": {
            "tags": []
          },
          "execution_count": 17
        }
      ]
    },
    {
      "cell_type": "code",
      "metadata": {
        "id": "27BUDGgTmThq",
        "colab_type": "code",
        "colab": {
          "base_uri": "https://localhost:8080/",
          "height": 140
        },
        "outputId": "aacc2753-2419-4897-90c2-5a286375528a"
      },
      "source": [
        "# Random 3 order tensor\n",
        "\n",
        "torch.rand(2,3,4)"
      ],
      "execution_count": 18,
      "outputs": [
        {
          "output_type": "execute_result",
          "data": {
            "text/plain": [
              "tensor([[[0.6269, 0.7905, 0.2755, 0.7074],\n",
              "         [0.7786, 0.3570, 0.0078, 0.6715],\n",
              "         [0.5813, 0.6850, 0.8836, 0.4360]],\n",
              "\n",
              "        [[0.5150, 0.1263, 0.8742, 0.6519],\n",
              "         [0.8218, 0.3829, 0.1933, 0.2817],\n",
              "         [0.1487, 0.2350, 0.9596, 0.6763]]])"
            ]
          },
          "metadata": {
            "tags": []
          },
          "execution_count": 18
        }
      ]
    },
    {
      "cell_type": "code",
      "metadata": {
        "id": "ek3DEL_OmhE4",
        "colab_type": "code",
        "colab": {
          "base_uri": "https://localhost:8080/",
          "height": 457
        },
        "outputId": "d712aba9-1583-4cfc-93e3-015ae9592e61"
      },
      "source": [
        "torch.rand(3,2,3,2)"
      ],
      "execution_count": 19,
      "outputs": [
        {
          "output_type": "execute_result",
          "data": {
            "text/plain": [
              "tensor([[[[0.7960, 0.3135],\n",
              "          [0.7270, 0.5749],\n",
              "          [0.0677, 0.9880]],\n",
              "\n",
              "         [[0.2271, 0.2035],\n",
              "          [0.4301, 0.4760],\n",
              "          [0.4000, 0.6133]]],\n",
              "\n",
              "\n",
              "        [[[0.2327, 0.4163],\n",
              "          [0.2681, 0.9413],\n",
              "          [0.3746, 0.0021]],\n",
              "\n",
              "         [[0.1493, 0.5444],\n",
              "          [0.4588, 0.0058],\n",
              "          [0.7403, 0.2555]]],\n",
              "\n",
              "\n",
              "        [[[0.8549, 0.2838],\n",
              "          [0.3390, 0.8712],\n",
              "          [0.3299, 0.6404]],\n",
              "\n",
              "         [[0.5896, 0.5971],\n",
              "          [0.2379, 0.7097],\n",
              "          [0.7366, 0.5986]]]])"
            ]
          },
          "metadata": {
            "tags": []
          },
          "execution_count": 19
        }
      ]
    },
    {
      "cell_type": "markdown",
      "metadata": {
        "id": "aqzNcSRPu305",
        "colab_type": "text"
      },
      "source": [
        "REF : https://pytorch.org/docs/stable/torch.html#creation-ops"
      ]
    },
    {
      "cell_type": "markdown",
      "metadata": {
        "id": "TQyPmE5au_wH",
        "colab_type": "text"
      },
      "source": [
        "##Question 1:\n",
        "How many dimensions are there in a tensor defined as below?"
      ]
    },
    {
      "cell_type": "code",
      "metadata": {
        "id": "gAeJeDkTwcdz",
        "colab_type": "code",
        "colab": {
          "base_uri": "https://localhost:8080/",
          "height": 34
        },
        "outputId": "33b51b74-74c9-4ff4-cade-cca012f99a3a"
      },
      "source": [
        "torch.rand(1, 1, 1, 1)"
      ],
      "execution_count": 12,
      "outputs": [
        {
          "output_type": "execute_result",
          "data": {
            "text/plain": [
              "tensor([[[[0.0428]]]])"
            ]
          },
          "metadata": {
            "tags": []
          },
          "execution_count": 12
        }
      ]
    },
    {
      "cell_type": "markdown",
      "metadata": {
        "id": "QR4ubO2ww4iE",
        "colab_type": "text"
      },
      "source": [
        "### Ans 1 - 4 Dimension\n"
      ]
    },
    {
      "cell_type": "code",
      "metadata": {
        "id": "eJMIOy55vAv1",
        "colab_type": "code",
        "colab": {
          "base_uri": "https://localhost:8080/",
          "height": 545
        },
        "outputId": "5a397034-575c-4f35-edb9-4a7ceb0d8ffe"
      },
      "source": [
        "torch.rand(2, 3, 4, 5)"
      ],
      "execution_count": 9,
      "outputs": [
        {
          "output_type": "execute_result",
          "data": {
            "text/plain": [
              "tensor([[[[0.0020, 0.8128, 0.1107, 0.6865, 0.9165],\n",
              "          [0.7100, 0.0781, 0.2275, 0.8027, 0.1700],\n",
              "          [0.3811, 0.2469, 0.4164, 0.2039, 0.7449],\n",
              "          [0.1164, 0.9278, 0.4014, 0.0741, 0.9596]],\n",
              "\n",
              "         [[0.0112, 0.7129, 0.5908, 0.2394, 0.2850],\n",
              "          [0.3561, 0.0771, 0.1490, 0.8068, 0.4286],\n",
              "          [0.5982, 0.0571, 0.3978, 0.4299, 0.3059],\n",
              "          [0.8803, 0.3565, 0.1660, 0.9566, 0.7013]],\n",
              "\n",
              "         [[0.2024, 0.6090, 0.2072, 0.8754, 0.7012],\n",
              "          [0.9112, 0.1733, 0.2836, 0.4149, 0.6158],\n",
              "          [0.7070, 0.6148, 0.0578, 0.9896, 0.4964],\n",
              "          [0.8069, 0.2671, 0.9520, 0.6188, 0.6889]]],\n",
              "\n",
              "\n",
              "        [[[0.0309, 0.3159, 0.7605, 0.7584, 0.8534],\n",
              "          [0.3667, 0.9347, 0.5098, 0.3710, 0.8075],\n",
              "          [0.2753, 0.9575, 0.2628, 0.5204, 0.2444],\n",
              "          [0.5769, 0.6812, 0.9647, 0.0382, 0.2802]],\n",
              "\n",
              "         [[0.0064, 0.3266, 0.7432, 0.1329, 0.7845],\n",
              "          [0.5373, 0.3635, 0.7268, 0.0023, 0.2325],\n",
              "          [0.4969, 0.3641, 0.6534, 0.8909, 0.0301],\n",
              "          [0.3828, 0.6585, 0.3242, 0.1423, 0.0327]],\n",
              "\n",
              "         [[0.7818, 0.5171, 0.6864, 0.4059, 0.0510],\n",
              "          [0.3405, 0.7541, 0.1034, 0.3166, 0.8776],\n",
              "          [0.1841, 0.6183, 0.7389, 0.5504, 0.5274],\n",
              "          [0.0147, 0.0744, 0.6761, 0.7826, 0.3309]]]])"
            ]
          },
          "metadata": {
            "tags": []
          },
          "execution_count": 9
        }
      ]
    },
    {
      "cell_type": "code",
      "metadata": {
        "id": "x4xUxMlvvxrV",
        "colab_type": "code",
        "colab": {
          "base_uri": "https://localhost:8080/",
          "height": 34
        },
        "outputId": "eef97ff0-d1cf-4438-b74e-6d6e52704125"
      },
      "source": [
        "torch.rand(2, 3, 4, 5).size()"
      ],
      "execution_count": 10,
      "outputs": [
        {
          "output_type": "execute_result",
          "data": {
            "text/plain": [
              "torch.Size([2, 3, 4, 5])"
            ]
          },
          "metadata": {
            "tags": []
          },
          "execution_count": 10
        }
      ]
    },
    {
      "cell_type": "code",
      "metadata": {
        "id": "maB53Qygvzbp",
        "colab_type": "code",
        "colab": {
          "base_uri": "https://localhost:8080/",
          "height": 34
        },
        "outputId": "20282af6-5716-42b4-bbae-4ccee24ed307"
      },
      "source": [
        "torch.rand(2, 3, 4, 5).shape"
      ],
      "execution_count": 11,
      "outputs": [
        {
          "output_type": "execute_result",
          "data": {
            "text/plain": [
              "torch.Size([2, 3, 4, 5])"
            ]
          },
          "metadata": {
            "tags": []
          },
          "execution_count": 11
        }
      ]
    }
  ]
}